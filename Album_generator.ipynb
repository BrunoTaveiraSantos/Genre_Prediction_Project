{
  "cells": [
    {
      "attachments": {},
      "cell_type": "markdown",
      "id": "64f04b6a-fe54-41ce-92fe-ae94fc587387",
      "metadata": {
        "id": "64f04b6a-fe54-41ce-92fe-ae94fc587387"
      },
      "source": [
        "# 1. Import Dependencies and Data"
      ]
    },
    {
      "cell_type": "code",
      "execution_count": 6,
      "id": "FplCthA5CGU-",
      "metadata": {
        "colab": {
          "base_uri": "https://localhost:8080/"
        },
        "id": "FplCthA5CGU-",
        "outputId": "0c7027c9-5e14-4430-a7eb-470a0cb7a97e"
      },
      "outputs": [
        {
          "name": "stdout",
          "output_type": "stream",
          "text": [
            "Mounted at /content/drive\n"
          ]
        }
      ],
      "source": [
        "#from google.colab import drive\n",
        "#drive.mount('/content/drive', force_remount=True)"
      ]
    },
    {
      "cell_type": "code",
      "execution_count": 6,
      "id": "72f84a2c",
      "metadata": {
        "id": "72f84a2c"
      },
      "outputs": [],
      "source": [
        "import matplotlib.pyplot as plt"
      ]
    },
    {
      "cell_type": "code",
      "execution_count": 7,
      "id": "b84be907-35e2-43db-a645-b6b164302aaa",
      "metadata": {
        "id": "b84be907-35e2-43db-a645-b6b164302aaa"
      },
      "outputs": [],
      "source": [
        "# Bringing in tensorflow\n",
        "import tensorflow as tf\n",
        "gpus = tf.config.experimental.list_physical_devices('GPU')\n",
        "for gpu in gpus: \n",
        "    tf.config.experimental.set_memory_growth(gpu, True)"
      ]
    },
    {
      "cell_type": "code",
      "execution_count": 8,
      "id": "a0f2aa32-064b-448c-bb27-f19a48c40115",
      "metadata": {
        "id": "a0f2aa32-064b-448c-bb27-f19a48c40115"
      },
      "outputs": [
        {
          "name": "stderr",
          "output_type": "stream",
          "text": [
            "c:\\Users\\Bruno Santos\\AppData\\Local\\Programs\\Python\\Python311\\Lib\\site-packages\\tqdm\\auto.py:21: TqdmWarning: IProgress not found. Please update jupyter and ipywidgets. See https://ipywidgets.readthedocs.io/en/stable/user_install.html\n",
            "  from .autonotebook import tqdm as notebook_tqdm\n"
          ]
        }
      ],
      "source": [
        "# Brining in tensorflow datasets for fashion mnist \n",
        "import tensorflow_datasets as tfds\n",
        "# Bringing in matplotlib for viz stuff\n",
        "from matplotlib import pyplot as plt"
      ]
    },
    {
      "attachments": {},
      "cell_type": "markdown",
      "id": "ea1635e4-4beb-493d-92c1-b106c806ca70",
      "metadata": {
        "id": "ea1635e4-4beb-493d-92c1-b106c806ca70"
      },
      "source": [
        "# 2. Viz Data and Build Dataset"
      ]
    },
    {
      "cell_type": "code",
      "execution_count": 4,
      "id": "b0c62caf-e406-4d12-af31-6f4848155844",
      "metadata": {
        "id": "b0c62caf-e406-4d12-af31-6f4848155844"
      },
      "outputs": [],
      "source": [
        "# Do some data transformation\n",
        "import numpy as np"
      ]
    },
    {
      "attachments": {},
      "cell_type": "markdown",
      "id": "9a5b08df-7b20-41f4-a8ff-112dface1cb0",
      "metadata": {
        "id": "9a5b08df-7b20-41f4-a8ff-112dface1cb0"
      },
      "source": [
        "# 3. Build Neural Network"
      ]
    },
    {
      "attachments": {},
      "cell_type": "markdown",
      "id": "38f66add-a3db-467f-96c3-f87b9f880159",
      "metadata": {
        "id": "38f66add-a3db-467f-96c3-f87b9f880159"
      },
      "source": [
        "### 3.1 Import Modelling Components"
      ]
    },
    {
      "cell_type": "code",
      "execution_count": 5,
      "id": "bb72da39-377f-4264-b525-c87f49fb0356",
      "metadata": {
        "id": "bb72da39-377f-4264-b525-c87f49fb0356"
      },
      "outputs": [],
      "source": [
        "# Bring in the sequential api for the generator and discriminator\n",
        "from tensorflow.keras.models import Sequential\n",
        "# Bring in the layers for the neural network\n",
        "from tensorflow.keras.layers import Conv2D, Dense, Flatten, Reshape, LeakyReLU, Dropout, UpSampling2D"
      ]
    },
    {
      "attachments": {},
      "cell_type": "markdown",
      "id": "c40405df-1439-4661-8785-d76698df8152",
      "metadata": {
        "id": "c40405df-1439-4661-8785-d76698df8152"
      },
      "source": [
        "### 3.2 Build Generator"
      ]
    },
    {
      "cell_type": "code",
      "execution_count": 9,
      "id": "5d29d43a-e02a-4031-a0ec-de8aa810c118",
      "metadata": {
        "id": "5d29d43a-e02a-4031-a0ec-de8aa810c118"
      },
      "outputs": [],
      "source": [
        "def build_generator(): \n",
        "    model = Sequential()\n",
        "    \n",
        "    # Takes in random values and reshapes it to 7x7x128\n",
        "    # Beginnings of a generated image\n",
        "    model.add(Dense(7*7*128, input_dim=600))\n",
        "    model.add(LeakyReLU(0.2))\n",
        "    model.add(Reshape((7,7,128)))\n",
        "    \n",
        "    #Upsampling block 1 \n",
        "    model.add(UpSampling2D())\n",
        "    model.add(Conv2D(128, 5, padding='same'))\n",
        "    model.add(LeakyReLU(0.2))\n",
        "    \n",
        "    # Upsampling block 2 \n",
        "    model.add(UpSampling2D())\n",
        "    model.add(Conv2D(128, 5, padding='same'))\n",
        "    model.add(LeakyReLU(0.2))\n",
        "    \n",
        "    # Convolutional block 1\n",
        "    model.add(Conv2D(128, 4, padding='same'))\n",
        "    model.add(LeakyReLU(0.2))\n",
        "    \n",
        "   # # Convolutional block 2\n",
        "    model.add(Conv2D(128, 4, padding='same'))\n",
        "    model.add(LeakyReLU(0.2))\n",
        "    \n",
        "    # Conv layer to get to one channel\n",
        "    model.add(Conv2D(3, 4, padding='same', activation='sigmoid'))\n",
        "    \n",
        "    return model"
      ]
    },
    {
      "cell_type": "code",
      "execution_count": 10,
      "id": "741b0d58-1b9f-4260-8405-dc400c73f843",
      "metadata": {
        "id": "741b0d58-1b9f-4260-8405-dc400c73f843"
      },
      "outputs": [],
      "source": [
        "generator = build_generator()"
      ]
    },
    {
      "cell_type": "code",
      "execution_count": 8,
      "id": "259ab9c1-6d6c-49a0-b0c4-f45b7c68f588",
      "metadata": {
        "colab": {
          "base_uri": "https://localhost:8080/"
        },
        "id": "259ab9c1-6d6c-49a0-b0c4-f45b7c68f588",
        "outputId": "0e5fff4e-392e-4461-f34e-f403b484514d",
        "scrolled": true,
        "tags": []
      },
      "outputs": [
        {
          "name": "stdout",
          "output_type": "stream",
          "text": [
            "Model: \"sequential\"\n",
            "_________________________________________________________________\n",
            " Layer (type)                Output Shape              Param #   \n",
            "=================================================================\n",
            " dense (Dense)               (None, 6272)              3769472   \n",
            "                                                                 \n",
            " leaky_re_lu (LeakyReLU)     (None, 6272)              0         \n",
            "                                                                 \n",
            " reshape (Reshape)           (None, 7, 7, 128)         0         \n",
            "                                                                 \n",
            " up_sampling2d (UpSampling2D  (None, 14, 14, 128)      0         \n",
            " )                                                               \n",
            "                                                                 \n",
            " conv2d (Conv2D)             (None, 14, 14, 128)       409728    \n",
            "                                                                 \n",
            " leaky_re_lu_1 (LeakyReLU)   (None, 14, 14, 128)       0         \n",
            "                                                                 \n",
            " up_sampling2d_1 (UpSampling  (None, 28, 28, 128)      0         \n",
            " 2D)                                                             \n",
            "                                                                 \n",
            " conv2d_1 (Conv2D)           (None, 28, 28, 128)       409728    \n",
            "                                                                 \n",
            " leaky_re_lu_2 (LeakyReLU)   (None, 28, 28, 128)       0         \n",
            "                                                                 \n",
            " conv2d_2 (Conv2D)           (None, 28, 28, 128)       262272    \n",
            "                                                                 \n",
            " leaky_re_lu_3 (LeakyReLU)   (None, 28, 28, 128)       0         \n",
            "                                                                 \n",
            " conv2d_3 (Conv2D)           (None, 28, 28, 128)       262272    \n",
            "                                                                 \n",
            " leaky_re_lu_4 (LeakyReLU)   (None, 28, 28, 128)       0         \n",
            "                                                                 \n",
            " conv2d_4 (Conv2D)           (None, 28, 28, 3)         6147      \n",
            "                                                                 \n",
            "=================================================================\n",
            "Total params: 5,119,619\n",
            "Trainable params: 5,119,619\n",
            "Non-trainable params: 0\n",
            "_________________________________________________________________\n"
          ]
        }
      ],
      "source": [
        "generator.summary()"
      ]
    },
    {
      "cell_type": "code",
      "execution_count": 17,
      "id": "10ba4d1c-6a15-4097-bf63-5fe6ddb404b6",
      "metadata": {
        "colab": {
          "base_uri": "https://localhost:8080/"
        },
        "id": "10ba4d1c-6a15-4097-bf63-5fe6ddb404b6",
        "outputId": "2a3d5710-b460-4bc4-fc9c-30940266bafd"
      },
      "outputs": [
        {
          "name": "stdout",
          "output_type": "stream",
          "text": [
            "1/1 [==============================] - 0s 308ms/step\n"
          ]
        }
      ],
      "source": [
        "img = generator.predict(np.random.randn(4,600,1))"
      ]
    },
    {
      "cell_type": "code",
      "execution_count": 18,
      "id": "9f66ff56",
      "metadata": {
        "colab": {
          "base_uri": "https://localhost:8080/"
        },
        "id": "9f66ff56",
        "outputId": "37d6b44a-58f7-4da7-e72f-1d922c6d8eac"
      },
      "outputs": [
        {
          "name": "stdout",
          "output_type": "stream",
          "text": [
            "1/1 [==============================] - 0s 59ms/step\n"
          ]
        },
        {
          "data": {
            "text/plain": [
              "(4, 28, 28, 3)"
            ]
          },
          "execution_count": 18,
          "metadata": {},
          "output_type": "execute_result"
        }
      ],
      "source": [
        "generator.predict(np.random.randn(4,600,1)).shape"
      ]
    },
    {
      "cell_type": "code",
      "execution_count": 19,
      "id": "9b4e0cb6-d741-4d43-b845-2a8f2615765b",
      "metadata": {
        "colab": {
          "base_uri": "https://localhost:8080/",
          "height": 325
        },
        "id": "9b4e0cb6-d741-4d43-b845-2a8f2615765b",
        "outputId": "097345fe-ef6e-48c3-d902-2ada564bd32c"
      },
      "outputs": [
        {
          "name": "stdout",
          "output_type": "stream",
          "text": [
            "1/1 [==============================] - 0s 49ms/step\n"
          ]
        },
        {
          "data": {
            "image/png": "[encoded data removed]",
            "text/plain": [
              "<Figure size 2000x2000 with 4 Axes>"
            ]
          },
          "metadata": {},
          "output_type": "display_data"
        }
      ],
      "source": [
        "# Generate new fashion\n",
        "img = generator.predict(np.random.randn(4,600,1))\n",
        "# Setup the subplot formatting \n",
        "fig, ax = plt.subplots(ncols=4, figsize=(20,20))\n",
        "# Loop four times and get images \n",
        "for idx, img in enumerate(img): \n",
        "    # Plot the image using a specific subplot \n",
        "    ax[idx].imshow(np.squeeze(img))\n",
        "    # Appending the image label as the plot title \n",
        "    ax[idx].title.set_text(idx)"
      ]
    },
    {
      "attachments": {},
      "cell_type": "markdown",
      "id": "2415abbf-24ed-4bac-8fb8-12c65017ec22",
      "metadata": {
        "id": "2415abbf-24ed-4bac-8fb8-12c65017ec22"
      },
      "source": [
        "### 3.3 Build Discriminator"
      ]
    },
    {
      "cell_type": "code",
      "execution_count": 20,
      "id": "b4e70bcb-cfd5-42bb-aed0-79f19bb38d17",
      "metadata": {
        "id": "b4e70bcb-cfd5-42bb-aed0-79f19bb38d17"
      },
      "outputs": [],
      "source": [
        "def build_discriminator(): \n",
        "    model = Sequential()\n",
        "    \n",
        "    # First Conv Block\n",
        "    model.add(Conv2D(32, 5, input_shape = (28,28,3)))\n",
        "    model.add(LeakyReLU(0.2))\n",
        "    model.add(Dropout(0.4))\n",
        "    \n",
        "    # Second Conv Block\n",
        "    model.add(Conv2D(64, 5))\n",
        "    model.add(LeakyReLU(0.2))\n",
        "    model.add(Dropout(0.4))\n",
        "    \n",
        "    # Third Conv Block\n",
        "    model.add(Conv2D(128, 5))\n",
        "    model.add(LeakyReLU(0.2))\n",
        "    model.add(Dropout(0.4))\n",
        "    \n",
        "    # Fourth Conv Block\n",
        "    model.add(Conv2D(256, 5))\n",
        "    model.add(LeakyReLU(0.2))\n",
        "    model.add(Dropout(0.4))\n",
        "    \n",
        "    # Flatten then pass to dense layer\n",
        "    model.add(Flatten())\n",
        "    model.add(Dropout(0.4))\n",
        "    model.add(Dense(1, activation='sigmoid'))\n",
        "    \n",
        "    return model "
      ]
    },
    {
      "cell_type": "code",
      "execution_count": 21,
      "id": "7173eb57-250b-4d21-9b37-de842c4552ac",
      "metadata": {
        "id": "7173eb57-250b-4d21-9b37-de842c4552ac"
      },
      "outputs": [],
      "source": [
        "discriminator = build_discriminator()"
      ]
    },
    {
      "cell_type": "code",
      "execution_count": 22,
      "id": "ed6fecbc-f214-4f50-865c-91887b2430e7",
      "metadata": {
        "colab": {
          "base_uri": "https://localhost:8080/"
        },
        "id": "ed6fecbc-f214-4f50-865c-91887b2430e7",
        "outputId": "d0c4e639-fa3f-4d71-c8ff-3ca368a6ea05",
        "scrolled": true,
        "tags": []
      },
      "outputs": [
        {
          "name": "stdout",
          "output_type": "stream",
          "text": [
            "Model: \"sequential_1\"\n",
            "_________________________________________________________________\n",
            " Layer (type)                Output Shape              Param #   \n",
            "=================================================================\n",
            " conv2d_5 (Conv2D)           (None, 24, 24, 32)        2432      \n",
            "                                                                 \n",
            " leaky_re_lu_5 (LeakyReLU)   (None, 24, 24, 32)        0         \n",
            "                                                                 \n",
            " dropout (Dropout)           (None, 24, 24, 32)        0         \n",
            "                                                                 \n",
            " conv2d_6 (Conv2D)           (None, 20, 20, 64)        51264     \n",
            "                                                                 \n",
            " leaky_re_lu_6 (LeakyReLU)   (None, 20, 20, 64)        0         \n",
            "                                                                 \n",
            " dropout_1 (Dropout)         (None, 20, 20, 64)        0         \n",
            "                                                                 \n",
            " conv2d_7 (Conv2D)           (None, 16, 16, 128)       204928    \n",
            "                                                                 \n",
            " leaky_re_lu_7 (LeakyReLU)   (None, 16, 16, 128)       0         \n",
            "                                                                 \n",
            " dropout_2 (Dropout)         (None, 16, 16, 128)       0         \n",
            "                                                                 \n",
            " conv2d_8 (Conv2D)           (None, 12, 12, 256)       819456    \n",
            "                                                                 \n",
            " leaky_re_lu_8 (LeakyReLU)   (None, 12, 12, 256)       0         \n",
            "                                                                 \n",
            " dropout_3 (Dropout)         (None, 12, 12, 256)       0         \n",
            "                                                                 \n",
            " flatten (Flatten)           (None, 36864)             0         \n",
            "                                                                 \n",
            " dropout_4 (Dropout)         (None, 36864)             0         \n",
            "                                                                 \n",
            " dense_1 (Dense)             (None, 1)                 36865     \n",
            "                                                                 \n",
            "=================================================================\n",
            "Total params: 1,114,945\n",
            "Trainable params: 1,114,945\n",
            "Non-trainable params: 0\n",
            "_________________________________________________________________\n"
          ]
        }
      ],
      "source": [
        "discriminator.summary()"
      ]
    },
    {
      "cell_type": "code",
      "execution_count": 23,
      "id": "9ce3acc9-02c8-468f-915a-0efd52da0bad",
      "metadata": {
        "colab": {
          "base_uri": "https://localhost:8080/"
        },
        "id": "9ce3acc9-02c8-468f-915a-0efd52da0bad",
        "outputId": "5d3adcdf-2331-48dc-d64f-091019b188ef"
      },
      "outputs": [
        {
          "data": {
            "text/plain": [
              "(28, 28, 3)"
            ]
          },
          "execution_count": 23,
          "metadata": {},
          "output_type": "execute_result"
        }
      ],
      "source": [
        "img.shape"
      ]
    },
    {
      "cell_type": "code",
      "execution_count": 24,
      "id": "8cd15246-b40c-4c7a-912d-b88a1c5c463b",
      "metadata": {
        "colab": {
          "base_uri": "https://localhost:8080/"
        },
        "id": "8cd15246-b40c-4c7a-912d-b88a1c5c463b",
        "outputId": "61eeeb76-2102-4e03-bbb1-96582bc67b28"
      },
      "outputs": [
        {
          "ename": "ValueError",
          "evalue": "in user code:\n\n    File \"c:\\Users\\Bruno Santos\\AppData\\Local\\Programs\\Python\\Python311\\Lib\\site-packages\\keras\\engine\\training.py\", line 2169, in predict_function  *\n        return step_function(self, iterator)\n    File \"c:\\Users\\Bruno Santos\\AppData\\Local\\Programs\\Python\\Python311\\Lib\\site-packages\\keras\\engine\\training.py\", line 2155, in step_function  **\n        outputs = model.distribute_strategy.run(run_step, args=(data,))\n    File \"c:\\Users\\Bruno Santos\\AppData\\Local\\Programs\\Python\\Python311\\Lib\\site-packages\\keras\\engine\\training.py\", line 2143, in run_step  **\n        outputs = model.predict_step(data)\n    File \"c:\\Users\\Bruno Santos\\AppData\\Local\\Programs\\Python\\Python311\\Lib\\site-packages\\keras\\engine\\training.py\", line 2111, in predict_step\n        return self(x, training=False)\n    File \"c:\\Users\\Bruno Santos\\AppData\\Local\\Programs\\Python\\Python311\\Lib\\site-packages\\keras\\utils\\traceback_utils.py\", line 70, in error_handler\n        raise e.with_traceback(filtered_tb) from None\n    File \"c:\\Users\\Bruno Santos\\AppData\\Local\\Programs\\Python\\Python311\\Lib\\site-packages\\keras\\engine\\input_spec.py\", line 298, in assert_input_compatibility\n        raise ValueError(\n\n    ValueError: Input 0 of layer \"sequential_1\" is incompatible with the layer: expected shape=(None, 28, 28, 3), found shape=(None, 28, 3)\n",
          "output_type": "error",
          "traceback": [
            "\u001b[1;31m---------------------------------------------------------------------------\u001b[0m",
            "\u001b[1;31mValueError\u001b[0m                                Traceback (most recent call last)",
            "Cell \u001b[1;32mIn[24], line 1\u001b[0m\n\u001b[1;32m----> 1\u001b[0m discriminator\u001b[39m.\u001b[39;49mpredict(img)\n",
            "File \u001b[1;32mc:\\Users\\Bruno Santos\\AppData\\Local\\Programs\\Python\\Python311\\Lib\\site-packages\\keras\\utils\\traceback_utils.py:70\u001b[0m, in \u001b[0;36mfilter_traceback.<locals>.error_handler\u001b[1;34m(*args, **kwargs)\u001b[0m\n\u001b[0;32m     67\u001b[0m     filtered_tb \u001b[39m=\u001b[39m _process_traceback_frames(e\u001b[39m.\u001b[39m__traceback__)\n\u001b[0;32m     68\u001b[0m     \u001b[39m# To get the full stack trace, call:\u001b[39;00m\n\u001b[0;32m     69\u001b[0m     \u001b[39m# `tf.debugging.disable_traceback_filtering()`\u001b[39;00m\n\u001b[1;32m---> 70\u001b[0m     \u001b[39mraise\u001b[39;00m e\u001b[39m.\u001b[39mwith_traceback(filtered_tb) \u001b[39mfrom\u001b[39;00m \u001b[39mNone\u001b[39m\n\u001b[0;32m     71\u001b[0m \u001b[39mfinally\u001b[39;00m:\n\u001b[0;32m     72\u001b[0m     \u001b[39mdel\u001b[39;00m filtered_tb\n",
            "File \u001b[1;32mC:\\Users\\BRUNOS~1\\AppData\\Local\\Temp\\__autograph_generated_filenw6yj9gn.py:15\u001b[0m, in \u001b[0;36mouter_factory.<locals>.inner_factory.<locals>.tf__predict_function\u001b[1;34m(iterator)\u001b[0m\n\u001b[0;32m     13\u001b[0m \u001b[39mtry\u001b[39;00m:\n\u001b[0;32m     14\u001b[0m     do_return \u001b[39m=\u001b[39m \u001b[39mTrue\u001b[39;00m\n\u001b[1;32m---> 15\u001b[0m     retval_ \u001b[39m=\u001b[39m ag__\u001b[39m.\u001b[39mconverted_call(ag__\u001b[39m.\u001b[39mld(step_function), (ag__\u001b[39m.\u001b[39mld(\u001b[39mself\u001b[39m), ag__\u001b[39m.\u001b[39mld(iterator)), \u001b[39mNone\u001b[39;00m, fscope)\n\u001b[0;32m     16\u001b[0m \u001b[39mexcept\u001b[39;00m:\n\u001b[0;32m     17\u001b[0m     do_return \u001b[39m=\u001b[39m \u001b[39mFalse\u001b[39;00m\n",
            "\u001b[1;31mValueError\u001b[0m: in user code:\n\n    File \"c:\\Users\\Bruno Santos\\AppData\\Local\\Programs\\Python\\Python311\\Lib\\site-packages\\keras\\engine\\training.py\", line 2169, in predict_function  *\n        return step_function(self, iterator)\n    File \"c:\\Users\\Bruno Santos\\AppData\\Local\\Programs\\Python\\Python311\\Lib\\site-packages\\keras\\engine\\training.py\", line 2155, in step_function  **\n        outputs = model.distribute_strategy.run(run_step, args=(data,))\n    File \"c:\\Users\\Bruno Santos\\AppData\\Local\\Programs\\Python\\Python311\\Lib\\site-packages\\keras\\engine\\training.py\", line 2143, in run_step  **\n        outputs = model.predict_step(data)\n    File \"c:\\Users\\Bruno Santos\\AppData\\Local\\Programs\\Python\\Python311\\Lib\\site-packages\\keras\\engine\\training.py\", line 2111, in predict_step\n        return self(x, training=False)\n    File \"c:\\Users\\Bruno Santos\\AppData\\Local\\Programs\\Python\\Python311\\Lib\\site-packages\\keras\\utils\\traceback_utils.py\", line 70, in error_handler\n        raise e.with_traceback(filtered_tb) from None\n    File \"c:\\Users\\Bruno Santos\\AppData\\Local\\Programs\\Python\\Python311\\Lib\\site-packages\\keras\\engine\\input_spec.py\", line 298, in assert_input_compatibility\n        raise ValueError(\n\n    ValueError: Input 0 of layer \"sequential_1\" is incompatible with the layer: expected shape=(None, 28, 28, 3), found shape=(None, 28, 3)\n"
          ]
        }
      ],
      "source": [
        "discriminator.predict(img)"
      ]
    },
    {
      "attachments": {},
      "cell_type": "markdown",
      "id": "39b343b0-38d3-4281-bedb-72099a18097e",
      "metadata": {
        "id": "39b343b0-38d3-4281-bedb-72099a18097e"
      },
      "source": [
        "# 4. Construct Training Loop"
      ]
    },
    {
      "attachments": {},
      "cell_type": "markdown",
      "id": "884abab3-2f74-442d-856f-e104ef1ac8ef",
      "metadata": {
        "id": "884abab3-2f74-442d-856f-e104ef1ac8ef"
      },
      "source": [
        "### 4.1 Setup Losses and Optimizers"
      ]
    },
    {
      "cell_type": "code",
      "execution_count": 25,
      "id": "0bb1d23a-ea68-451a-bb38-e7795dc24311",
      "metadata": {
        "id": "0bb1d23a-ea68-451a-bb38-e7795dc24311"
      },
      "outputs": [],
      "source": [
        "# Adam is going to be the optimizer for both\n",
        "from tensorflow.keras.optimizers import Adam\n",
        "# Binary cross entropy is going to be the loss for both \n",
        "from tensorflow.keras.losses import BinaryCrossentropy"
      ]
    },
    {
      "cell_type": "code",
      "execution_count": 26,
      "id": "198b2d4e-d6b9-4b6c-a98c-65cd1b81da26",
      "metadata": {
        "id": "198b2d4e-d6b9-4b6c-a98c-65cd1b81da26"
      },
      "outputs": [],
      "source": [
        "g_opt = Adam(learning_rate=0.0001) \n",
        "d_opt = Adam(learning_rate=0.00001) \n",
        "g_loss = BinaryCrossentropy()\n",
        "d_loss = BinaryCrossentropy()"
      ]
    },
    {
      "attachments": {},
      "cell_type": "markdown",
      "id": "9f170b0e-f731-4cbd-8068-24896f462c08",
      "metadata": {
        "id": "9f170b0e-f731-4cbd-8068-24896f462c08"
      },
      "source": [
        "### 4.2 Build Subclassed Model"
      ]
    },
    {
      "cell_type": "code",
      "execution_count": 27,
      "id": "9e2f5654-ed22-462d-be32-6c43d8b99b74",
      "metadata": {
        "id": "9e2f5654-ed22-462d-be32-6c43d8b99b74"
      },
      "outputs": [],
      "source": [
        "# Importing the base model class to subclass our training step \n",
        "from tensorflow.keras.models import Model"
      ]
    },
    {
      "cell_type": "code",
      "execution_count": 28,
      "id": "40a0af46-0243-4396-94d6-c1316d984de9",
      "metadata": {
        "id": "40a0af46-0243-4396-94d6-c1316d984de9"
      },
      "outputs": [],
      "source": [
        "class FashionGAN(Model): \n",
        "    def __init__(self, generator, discriminator, *args, **kwargs):\n",
        "        # Pass through args and kwargs to base class \n",
        "        super().__init__(*args, **kwargs)\n",
        "        \n",
        "        # Create attributes for gen and disc\n",
        "        self.generator = generator \n",
        "        self.discriminator = discriminator \n",
        "        \n",
        "    def compile(self, g_opt, d_opt, g_loss, d_loss, *args, **kwargs): \n",
        "        # Compile with base class\n",
        "        super().compile(*args, **kwargs)\n",
        "        \n",
        "        # Create attributes for losses and optimizers\n",
        "        self.g_opt = g_opt\n",
        "        self.d_opt = d_opt\n",
        "        self.g_loss = g_loss\n",
        "        self.d_loss = d_loss \n",
        "\n",
        "    def train_step(self, batch):\n",
        "        # Get the data \n",
        "        real_images = batch\n",
        "        fake_images = self.generator(tf.random.normal((600, 600, 1)), training=False)\n",
        "        \n",
        "        # Train the discriminator\n",
        "        with tf.GradientTape() as d_tape: \n",
        "            # Pass the real and fake images to the discriminator model\n",
        "            yhat_real = self.discriminator(real_images, training=True) \n",
        "            yhat_fake = self.discriminator(fake_images, training=True)\n",
        "            yhat_realfake = tf.concat([yhat_real, yhat_fake], axis=0)\n",
        "            \n",
        "            # Create labels for real and fakes images\n",
        "            y_realfake = tf.concat([tf.zeros_like(yhat_real), tf.ones_like(yhat_fake)], axis=0)\n",
        "            \n",
        "            # Add some noise to the TRUE outputs\n",
        "            noise_real = 0.15*tf.random.uniform(tf.shape(yhat_real))\n",
        "            noise_fake = -0.15*tf.random.uniform(tf.shape(yhat_fake))\n",
        "            y_realfake += tf.concat([noise_real, noise_fake], axis=0)\n",
        "            \n",
        "            # Calculate loss - BINARYCROSS \n",
        "            total_d_loss = self.d_loss(y_realfake, yhat_realfake)\n",
        "            \n",
        "        # Apply backpropagation - nn learn \n",
        "        dgrad = d_tape.gradient(total_d_loss, self.discriminator.trainable_variables) \n",
        "        self.d_opt.apply_gradients(zip(dgrad, self.discriminator.trainable_variables))\n",
        "        \n",
        "        # Train the generator \n",
        "        with tf.GradientTape() as g_tape: \n",
        "            # Generate some new images\n",
        "            gen_images = self.generator(tf.random.normal((600,600,1)), training=True)\n",
        "                                        \n",
        "            # Create the predicted labels\n",
        "            predicted_labels = self.discriminator(gen_images, training=False)\n",
        "                                        \n",
        "            # Calculate loss - trick to training to fake out the discriminator\n",
        "            total_g_loss = self.g_loss(tf.zeros_like(predicted_labels), predicted_labels) \n",
        "            \n",
        "        # Apply backprop\n",
        "        ggrad = g_tape.gradient(total_g_loss, self.generator.trainable_variables)\n",
        "        self.g_opt.apply_gradients(zip(ggrad, self.generator.trainable_variables))\n",
        "        \n",
        "        return {\"d_loss\":total_d_loss, \"g_loss\":total_g_loss}"
      ]
    },
    {
      "cell_type": "code",
      "execution_count": 29,
      "id": "24d248c3-f4c1-4478-a699-a5811a7b1fd0",
      "metadata": {
        "id": "24d248c3-f4c1-4478-a699-a5811a7b1fd0"
      },
      "outputs": [],
      "source": [
        "# Create instance of subclassed model\n",
        "fashgan = FashionGAN(generator, discriminator)"
      ]
    },
    {
      "cell_type": "code",
      "execution_count": 30,
      "id": "e1cf7e02-ee1a-4901-bdf0-9aa2301f8cfc",
      "metadata": {
        "id": "e1cf7e02-ee1a-4901-bdf0-9aa2301f8cfc"
      },
      "outputs": [],
      "source": [
        "# Compile the model\n",
        "fashgan.compile(g_opt, d_opt, g_loss, d_loss)"
      ]
    },
    {
      "attachments": {},
      "cell_type": "markdown",
      "id": "e06d0adb-38d0-4558-b824-7416cf880082",
      "metadata": {
        "id": "e06d0adb-38d0-4558-b824-7416cf880082"
      },
      "source": [
        "### 4.3 Build Callback"
      ]
    },
    {
      "cell_type": "code",
      "execution_count": 31,
      "id": "548f6918-366c-4799-9dac-1acedaab40c4",
      "metadata": {
        "id": "548f6918-366c-4799-9dac-1acedaab40c4"
      },
      "outputs": [],
      "source": [
        "import os\n",
        "from tensorflow.keras.preprocessing.image import array_to_img\n",
        "from tensorflow.keras.callbacks import Callback"
      ]
    },
    {
      "cell_type": "code",
      "execution_count": 32,
      "id": "d3e2bb77-2d7d-40d0-809f-526b8fd34170",
      "metadata": {
        "id": "d3e2bb77-2d7d-40d0-809f-526b8fd34170"
      },
      "outputs": [],
      "source": [
        "class ModelMonitor(Callback):\n",
        "    def __init__(self, num_img=3, latent_dim=600):\n",
        "        self.num_img = num_img\n",
        "        self.latent_dim = latent_dim\n",
        "\n",
        "    def on_epoch_end(self, epoch, logs=None):\n",
        "        random_latent_vectors = tf.random.uniform((self.num_img, self.latent_dim,1))\n",
        "        generated_images = self.model.generator(random_latent_vectors)\n",
        "        generated_images *= 255\n",
        "        generated_images.numpy()\n",
        "        for i in range(self.num_img):\n",
        "            img = array_to_img(generated_images[i])\n",
        "            img.save(os.path.join('/content/drive/MyDrive/Bootcamp Final Project/images', f'generated_img_{epoch}_{i}.png'))"
      ]
    },
    {
      "attachments": {},
      "cell_type": "markdown",
      "id": "16e2f159-25e7-4e35-95ef-f0fd18ac5897",
      "metadata": {
        "id": "16e2f159-25e7-4e35-95ef-f0fd18ac5897"
      },
      "source": [
        "### 4.3 Train "
      ]
    },
    {
      "attachments": {},
      "cell_type": "markdown",
      "id": "f667c379",
      "metadata": {
        "id": "f667c379"
      },
      "source": [
        "#### Get data"
      ]
    },
    {
      "cell_type": "code",
      "execution_count": 33,
      "id": "98544c4a",
      "metadata": {
        "id": "98544c4a"
      },
      "outputs": [],
      "source": [
        "DATASET_PATH = \"/content/drive/MyDrive/Bootcamp Final Project/hiphop (1)\"\n",
        "JSON_PATH = \"data_covers.json\""
      ]
    },
    {
      "cell_type": "code",
      "execution_count": 34,
      "id": "7f533033",
      "metadata": {
        "id": "7f533033"
      },
      "outputs": [],
      "source": [
        "from PIL import Image\n",
        "def image_array(path):\n",
        "    img = Image.open(path)\n",
        "    image = img.resize((28, 28))\n",
        "    img_array = np.array(image)\n",
        "    return img_array"
      ]
    },
    {
      "cell_type": "code",
      "execution_count": 35,
      "id": "6590295a",
      "metadata": {
        "id": "6590295a"
      },
      "outputs": [],
      "source": [
        "def labels(x):\n",
        "    list = [\"blues\",\"classical\",\"country\", \"disco\", \"hiphop\", \"jazz\",\"metal\",\"pop\",\"raggae\",\"rock\"]\n",
        "    for i, item in enumerate(list):\n",
        "        if item in x:\n",
        "            return item"
      ]
    },
    {
      "cell_type": "code",
      "execution_count": 36,
      "id": "1ed84aa3",
      "metadata": {
        "id": "1ed84aa3"
      },
      "outputs": [],
      "source": [
        "image_paths = []\n",
        "for root, directories, files in os.walk(DATASET_PATH):\n",
        "    for file in files:\n",
        "        image_path = os.path.join(root, file)\n",
        "        image_paths.append(image_path)"
      ]
    },
    {
      "cell_type": "code",
      "execution_count": 37,
      "id": "da6fd1e9",
      "metadata": {
        "id": "da6fd1e9"
      },
      "outputs": [],
      "source": [
        "import pandas as pd\n",
        "image_df = pd.DataFrame(image_paths, columns=[\"Image_path\"])"
      ]
    },
    {
      "cell_type": "code",
      "execution_count": 38,
      "id": "znGSD68dFQ2I",
      "metadata": {
        "colab": {
          "base_uri": "https://localhost:8080/",
          "height": 424
        },
        "id": "znGSD68dFQ2I",
        "outputId": "157accbe-923e-461e-c912-9a3bea649c2d"
      },
      "outputs": [
        {
          "data": {
            "text/html": [
              "<div>\n",
              "<style scoped>\n",
              "    .dataframe tbody tr th:only-of-type {\n",
              "        vertical-align: middle;\n",
              "    }\n",
              "\n",
              "    .dataframe tbody tr th {\n",
              "        vertical-align: top;\n",
              "    }\n",
              "\n",
              "    .dataframe thead th {\n",
              "        text-align: right;\n",
              "    }\n",
              "</style>\n",
              "<table border=\"1\" class=\"dataframe\">\n",
              "  <thead>\n",
              "    <tr style=\"text-align: right;\">\n",
              "      <th></th>\n",
              "      <th>Image_path</th>\n",
              "    </tr>\n",
              "  </thead>\n",
              "  <tbody>\n",
              "  </tbody>\n",
              "</table>\n",
              "</div>"
            ],
            "text/plain": [
              "Empty DataFrame\n",
              "Columns: [Image_path]\n",
              "Index: []"
            ]
          },
          "execution_count": 38,
          "metadata": {},
          "output_type": "execute_result"
        }
      ],
      "source": [
        "image_df"
      ]
    },
    {
      "cell_type": "code",
      "execution_count": 39,
      "id": "93f2e9f6",
      "metadata": {
        "id": "93f2e9f6"
      },
      "outputs": [],
      "source": [
        "image_df[\"Image\"]=image_df['Image_path'].apply(image_array)"
      ]
    },
    {
      "cell_type": "code",
      "execution_count": 40,
      "id": "97a4c1c3",
      "metadata": {
        "id": "97a4c1c3"
      },
      "outputs": [],
      "source": [
        "list = [\"blues\",\"classical\",\"country\", \"disco\", \"hiphop\", \"jazz\",\"metal\",\"pop\",\"raggae\",\"rock\"]\n",
        "image_df[\"labels\"] = 0\n",
        "image_df.head()\n",
        "\n",
        "image_df[\"labels\"] = image_df['Image_path'].apply(labels)"
      ]
    },
    {
      "cell_type": "code",
      "execution_count": 41,
      "id": "21507f3b",
      "metadata": {
        "id": "21507f3b"
      },
      "outputs": [],
      "source": [
        "label_data = image_df[image_df[\"labels\"]==\"hiphop\"][\"labels\"].values"
      ]
    },
    {
      "cell_type": "code",
      "execution_count": 42,
      "id": "59d947d1",
      "metadata": {
        "colab": {
          "base_uri": "https://localhost:8080/"
        },
        "id": "59d947d1",
        "outputId": "45d03681-cd72-4bf6-c7f1-cf6eebb9ee18"
      },
      "outputs": [
        {
          "data": {
            "text/plain": [
              "(0,)"
            ]
          },
          "execution_count": 42,
          "metadata": {},
          "output_type": "execute_result"
        }
      ],
      "source": [
        "image_data = image_df[image_df[\"labels\"]==\"hiphop\"][\"Image\"].values\n",
        "image_data.shape"
      ]
    },
    {
      "cell_type": "code",
      "execution_count": 43,
      "id": "d9135949",
      "metadata": {
        "id": "d9135949"
      },
      "outputs": [],
      "source": [
        "def scale_images(data):\n",
        "    image = data\n",
        "    return image/255"
      ]
    },
    {
      "cell_type": "code",
      "execution_count": 44,
      "id": "9adffbf4",
      "metadata": {
        "id": "9adffbf4"
      },
      "outputs": [],
      "source": [
        "image_data_s = scale_images(image_data)"
      ]
    },
    {
      "cell_type": "code",
      "execution_count": 45,
      "id": "820eaabd",
      "metadata": {
        "id": "820eaabd"
      },
      "outputs": [
        {
          "ename": "ValueError",
          "evalue": "need at least one array to stack",
          "output_type": "error",
          "traceback": [
            "\u001b[1;31m---------------------------------------------------------------------------\u001b[0m",
            "\u001b[1;31mValueError\u001b[0m                                Traceback (most recent call last)",
            "Cell \u001b[1;32mIn[45], line 1\u001b[0m\n\u001b[1;32m----> 1\u001b[0m stacked_array \u001b[39m=\u001b[39m np\u001b[39m.\u001b[39;49mstack(image_data_s, axis\u001b[39m=\u001b[39;49m\u001b[39m0\u001b[39;49m)\n",
            "File \u001b[1;32m<__array_function__ internals>:180\u001b[0m, in \u001b[0;36mstack\u001b[1;34m(*args, **kwargs)\u001b[0m\n",
            "File \u001b[1;32mc:\\Users\\Bruno Santos\\AppData\\Local\\Programs\\Python\\Python311\\Lib\\site-packages\\numpy\\core\\shape_base.py:422\u001b[0m, in \u001b[0;36mstack\u001b[1;34m(arrays, axis, out)\u001b[0m\n\u001b[0;32m    420\u001b[0m arrays \u001b[39m=\u001b[39m [asanyarray(arr) \u001b[39mfor\u001b[39;00m arr \u001b[39min\u001b[39;00m arrays]\n\u001b[0;32m    421\u001b[0m \u001b[39mif\u001b[39;00m \u001b[39mnot\u001b[39;00m arrays:\n\u001b[1;32m--> 422\u001b[0m     \u001b[39mraise\u001b[39;00m \u001b[39mValueError\u001b[39;00m(\u001b[39m'\u001b[39m\u001b[39mneed at least one array to stack\u001b[39m\u001b[39m'\u001b[39m)\n\u001b[0;32m    424\u001b[0m shapes \u001b[39m=\u001b[39m {arr\u001b[39m.\u001b[39mshape \u001b[39mfor\u001b[39;00m arr \u001b[39min\u001b[39;00m arrays}\n\u001b[0;32m    425\u001b[0m \u001b[39mif\u001b[39;00m \u001b[39mlen\u001b[39m(shapes) \u001b[39m!=\u001b[39m \u001b[39m1\u001b[39m:\n",
            "\u001b[1;31mValueError\u001b[0m: need at least one array to stack"
          ]
        }
      ],
      "source": [
        "stacked_array = np.stack(image_data_s, axis=0)"
      ]
    },
    {
      "cell_type": "code",
      "execution_count": null,
      "id": "870e6f7a",
      "metadata": {
        "id": "870e6f7a"
      },
      "outputs": [],
      "source": [
        "#grayscale_dataset = np.mean(stacked_array, axis=3, keepdims=True)"
      ]
    },
    {
      "cell_type": "code",
      "execution_count": null,
      "id": "051574fb",
      "metadata": {
        "colab": {
          "base_uri": "https://localhost:8080/"
        },
        "id": "051574fb",
        "outputId": "c87a17dc-4463-4d7a-c022-c7db32aeab80"
      },
      "outputs": [
        {
          "data": {
            "text/plain": [
              "(600, 28, 28, 3)"
            ]
          },
          "execution_count": 147,
          "metadata": {},
          "output_type": "execute_result"
        }
      ],
      "source": [
        "stacked_array.shape"
      ]
    },
    {
      "cell_type": "code",
      "execution_count": null,
      "id": "DSpXn5xL9UHY",
      "metadata": {
        "colab": {
          "base_uri": "https://localhost:8080/",
          "height": 447
        },
        "id": "DSpXn5xL9UHY",
        "outputId": "9c80513f-e454-4e3f-f6f4-fd2ebcb40e2b"
      },
      "outputs": [
        {
          "data": {
            "text/plain": [
              "<matplotlib.image.AxesImage at 0x7f9bc06be9b0>"
            ]
          },
          "execution_count": 148,
          "metadata": {},
          "output_type": "execute_result"
        },
        {
          "data": {
            "image/png": "[encoded data removed]",
            "text/plain": [
              "<Figure size 640x480 with 1 Axes>"
            ]
          },
          "metadata": {},
          "output_type": "display_data"
        }
      ],
      "source": [
        "plt.imshow(stacked_array[2])"
      ]
    },
    {
      "attachments": {},
      "cell_type": "markdown",
      "id": "c5aad152",
      "metadata": {
        "id": "c5aad152"
      },
      "source": [
        "## Train"
      ]
    },
    {
      "cell_type": "code",
      "execution_count": null,
      "id": "a779dceb-aba6-4bf3-af49-0d32a76dd2f7",
      "metadata": {
        "colab": {
          "base_uri": "https://localhost:8080/"
        },
        "id": "a779dceb-aba6-4bf3-af49-0d32a76dd2f7",
        "outputId": "ab3ca6a6-54d8-48eb-a532-ea2556c8dc12",
        "scrolled": true,
        "tags": []
      },
      "outputs": [
        {
          "name": "stdout",
          "output_type": "stream",
          "text": [
            "Epoch 1/500\n",
            " 6/19 [========>.....................] - ETA: 8s - d_loss: 0.2744 - g_loss: 1.5544"
          ]
        },
        {
          "name": "stderr",
          "output_type": "stream",
          "text": [
            "WARNING:tensorflow:Callback method `on_train_batch_end` is slow compared to the batch time (batch time: 0.2725s vs `on_train_batch_end` time: 0.3809s). Check your callbacks.\n"
          ]
        },
        {
          "name": "stdout",
          "output_type": "stream",
          "text": [
            "19/19 [==============================] - 13s 665ms/step - d_loss: 0.2747 - g_loss: 1.5803\n",
            "Epoch 2/500\n",
            "19/19 [==============================] - 13s 679ms/step - d_loss: 0.2728 - g_loss: 1.6069\n",
            "Epoch 3/500\n",
            "19/19 [==============================] - 13s 687ms/step - d_loss: 0.2746 - g_loss: 1.6172\n",
            "Epoch 4/500\n",
            "19/19 [==============================] - 13s 676ms/step - d_loss: 0.2741 - g_loss: 1.6325\n",
            "Epoch 5/500\n",
            "19/19 [==============================] - 13s 669ms/step - d_loss: 0.2727 - g_loss: 1.6500\n",
            "Epoch 6/500\n",
            "19/19 [==============================] - 13s 667ms/step - d_loss: 0.2708 - g_loss: 1.6562\n",
            "Epoch 7/500\n",
            "19/19 [==============================] - 13s 667ms/step - d_loss: 0.2715 - g_loss: 1.6588\n",
            "Epoch 8/500\n",
            "19/19 [==============================] - 13s 670ms/step - d_loss: 0.2734 - g_loss: 1.6621\n",
            "Epoch 9/500\n",
            "19/19 [==============================] - 13s 673ms/step - d_loss: 0.2720 - g_loss: 1.6596\n",
            "Epoch 10/500\n",
            "19/19 [==============================] - 13s 673ms/step - d_loss: 0.2739 - g_loss: 1.6588\n",
            "Epoch 11/500\n",
            "19/19 [==============================] - 13s 673ms/step - d_loss: 0.2717 - g_loss: 1.6725\n",
            "Epoch 12/500\n",
            "19/19 [==============================] - 13s 670ms/step - d_loss: 0.2726 - g_loss: 1.6764\n",
            "Epoch 13/500\n",
            "19/19 [==============================] - 13s 670ms/step - d_loss: 0.2719 - g_loss: 1.6810\n",
            "Epoch 14/500\n",
            "19/19 [==============================] - 13s 671ms/step - d_loss: 0.2713 - g_loss: 1.6802\n",
            "Epoch 15/500\n",
            "19/19 [==============================] - 13s 671ms/step - d_loss: 0.2707 - g_loss: 1.6858\n",
            "Epoch 16/500\n",
            "19/19 [==============================] - 13s 671ms/step - d_loss: 0.2712 - g_loss: 1.6755\n",
            "Epoch 17/500\n",
            "19/19 [==============================] - 13s 671ms/step - d_loss: 0.2721 - g_loss: 1.6709\n",
            "Epoch 18/500\n",
            "19/19 [==============================] - 13s 671ms/step - d_loss: 0.2705 - g_loss: 1.6706\n",
            "Epoch 19/500\n",
            "19/19 [==============================] - 13s 672ms/step - d_loss: 0.2713 - g_loss: 1.6637\n",
            "Epoch 20/500\n",
            "19/19 [==============================] - 13s 673ms/step - d_loss: 0.2712 - g_loss: 1.6633\n",
            "Epoch 21/500\n",
            "19/19 [==============================] - 13s 672ms/step - d_loss: 0.2721 - g_loss: 1.6499\n",
            "Epoch 22/500\n",
            "19/19 [==============================] - 13s 670ms/step - d_loss: 0.2706 - g_loss: 1.6661\n",
            "Epoch 23/500\n",
            "19/19 [==============================] - 13s 670ms/step - d_loss: 0.2708 - g_loss: 1.6579\n",
            "Epoch 24/500\n",
            "19/19 [==============================] - 13s 670ms/step - d_loss: 0.2700 - g_loss: 1.6661\n",
            "Epoch 25/500\n",
            "19/19 [==============================] - 13s 670ms/step - d_loss: 0.2719 - g_loss: 1.6479\n",
            "Epoch 26/500\n",
            "19/19 [==============================] - 13s 671ms/step - d_loss: 0.2713 - g_loss: 1.6633\n",
            "Epoch 27/500\n",
            "19/19 [==============================] - 13s 670ms/step - d_loss: 0.2716 - g_loss: 1.6578\n",
            "Epoch 28/500\n",
            "19/19 [==============================] - 13s 670ms/step - d_loss: 0.2704 - g_loss: 1.6632\n",
            "Epoch 29/500\n",
            "19/19 [==============================] - 13s 671ms/step - d_loss: 0.2715 - g_loss: 1.6591\n",
            "Epoch 30/500\n",
            "19/19 [==============================] - 13s 671ms/step - d_loss: 0.2710 - g_loss: 1.6600\n",
            "Epoch 31/500\n",
            "19/19 [==============================] - 13s 669ms/step - d_loss: 0.2694 - g_loss: 1.6717\n",
            "Epoch 32/500\n",
            "19/19 [==============================] - 13s 670ms/step - d_loss: 0.2723 - g_loss: 1.6613\n",
            "Epoch 33/500\n",
            "19/19 [==============================] - 13s 671ms/step - d_loss: 0.2715 - g_loss: 1.6628\n",
            "Epoch 34/500\n",
            "19/19 [==============================] - 13s 670ms/step - d_loss: 0.2691 - g_loss: 1.6767\n",
            "Epoch 35/500\n",
            "19/19 [==============================] - 13s 670ms/step - d_loss: 0.2715 - g_loss: 1.6614\n",
            "Epoch 36/500\n",
            "19/19 [==============================] - 13s 670ms/step - d_loss: 0.2723 - g_loss: 1.6669\n",
            "Epoch 37/500\n",
            "19/19 [==============================] - 13s 670ms/step - d_loss: 0.2721 - g_loss: 1.6677\n",
            "Epoch 38/500\n",
            "19/19 [==============================] - 13s 671ms/step - d_loss: 0.2718 - g_loss: 1.6717\n",
            "Epoch 39/500\n",
            "19/19 [==============================] - 13s 670ms/step - d_loss: 0.2704 - g_loss: 1.6856\n",
            "Epoch 40/500\n",
            "19/19 [==============================] - 13s 669ms/step - d_loss: 0.2733 - g_loss: 1.6729\n",
            "Epoch 41/500\n",
            "19/19 [==============================] - 13s 670ms/step - d_loss: 0.2706 - g_loss: 1.6883\n",
            "Epoch 42/500\n",
            "19/19 [==============================] - 13s 671ms/step - d_loss: 0.2713 - g_loss: 1.6779\n",
            "Epoch 43/500\n",
            "19/19 [==============================] - 13s 670ms/step - d_loss: 0.2701 - g_loss: 1.6891\n",
            "Epoch 44/500\n",
            "19/19 [==============================] - 13s 671ms/step - d_loss: 0.2699 - g_loss: 1.6981\n",
            "Epoch 45/500\n",
            "19/19 [==============================] - 13s 670ms/step - d_loss: 0.2717 - g_loss: 1.6909\n",
            "Epoch 46/500\n",
            "19/19 [==============================] - 13s 671ms/step - d_loss: 0.2711 - g_loss: 1.6999\n",
            "Epoch 47/500\n",
            "19/19 [==============================] - 13s 670ms/step - d_loss: 0.2699 - g_loss: 1.7050\n",
            "Epoch 48/500\n",
            "19/19 [==============================] - 13s 670ms/step - d_loss: 0.2710 - g_loss: 1.7079\n",
            "Epoch 49/500\n",
            "19/19 [==============================] - 13s 669ms/step - d_loss: 0.2718 - g_loss: 1.7058\n",
            "Epoch 50/500\n",
            "19/19 [==============================] - 13s 670ms/step - d_loss: 0.2700 - g_loss: 1.7193\n",
            "Epoch 51/500\n",
            "19/19 [==============================] - 13s 670ms/step - d_loss: 0.2704 - g_loss: 1.7194\n",
            "Epoch 52/500\n",
            "19/19 [==============================] - 13s 670ms/step - d_loss: 0.2701 - g_loss: 1.7151\n",
            "Epoch 53/500\n",
            "19/19 [==============================] - 13s 670ms/step - d_loss: 0.2721 - g_loss: 1.7170\n",
            "Epoch 54/500\n",
            "19/19 [==============================] - 13s 670ms/step - d_loss: 0.2701 - g_loss: 1.7278\n",
            "Epoch 55/500\n",
            "19/19 [==============================] - 13s 670ms/step - d_loss: 0.2703 - g_loss: 1.7381\n",
            "Epoch 56/500\n",
            "19/19 [==============================] - 13s 670ms/step - d_loss: 0.2707 - g_loss: 1.7205\n",
            "Epoch 57/500\n",
            "19/19 [==============================] - 13s 670ms/step - d_loss: 0.2713 - g_loss: 1.7290\n",
            "Epoch 58/500\n",
            "19/19 [==============================] - 13s 670ms/step - d_loss: 0.2702 - g_loss: 1.7422\n",
            "Epoch 59/500\n",
            "19/19 [==============================] - 13s 671ms/step - d_loss: 0.2712 - g_loss: 1.7372\n",
            "Epoch 60/500\n",
            "19/19 [==============================] - 13s 671ms/step - d_loss: 0.2683 - g_loss: 1.7536\n",
            "Epoch 61/500\n",
            "19/19 [==============================] - 13s 670ms/step - d_loss: 0.2717 - g_loss: 1.7504\n",
            "Epoch 62/500\n",
            "19/19 [==============================] - 13s 669ms/step - d_loss: 0.2719 - g_loss: 1.7439\n",
            "Epoch 63/500\n",
            "19/19 [==============================] - 13s 669ms/step - d_loss: 0.2688 - g_loss: 1.7646\n",
            "Epoch 64/500\n",
            "19/19 [==============================] - 13s 669ms/step - d_loss: 0.2717 - g_loss: 1.7543\n",
            "Epoch 65/500\n",
            "19/19 [==============================] - 13s 669ms/step - d_loss: 0.2690 - g_loss: 1.7717\n",
            "Epoch 66/500\n",
            "19/19 [==============================] - 13s 670ms/step - d_loss: 0.2705 - g_loss: 1.7689\n",
            "Epoch 67/500\n",
            "19/19 [==============================] - 13s 669ms/step - d_loss: 0.2689 - g_loss: 1.7814\n",
            "Epoch 68/500\n",
            "19/19 [==============================] - 13s 670ms/step - d_loss: 0.2706 - g_loss: 1.7816\n",
            "Epoch 69/500\n",
            "19/19 [==============================] - 13s 670ms/step - d_loss: 0.2712 - g_loss: 1.7749\n",
            "Epoch 70/500\n",
            "19/19 [==============================] - 13s 669ms/step - d_loss: 0.2684 - g_loss: 1.7811\n",
            "Epoch 71/500\n",
            "19/19 [==============================] - 13s 669ms/step - d_loss: 0.2703 - g_loss: 1.7904\n",
            "Epoch 72/500\n",
            "19/19 [==============================] - 13s 669ms/step - d_loss: 0.2700 - g_loss: 1.7926\n",
            "Epoch 73/500\n",
            "19/19 [==============================] - 13s 670ms/step - d_loss: 0.2695 - g_loss: 1.8050\n",
            "Epoch 74/500\n",
            "19/19 [==============================] - 13s 669ms/step - d_loss: 0.2700 - g_loss: 1.8002\n",
            "Epoch 75/500\n",
            "19/19 [==============================] - 13s 670ms/step - d_loss: 0.2687 - g_loss: 1.8129\n",
            "Epoch 76/500\n",
            "19/19 [==============================] - 13s 671ms/step - d_loss: 0.2681 - g_loss: 1.8232\n",
            "Epoch 77/500\n",
            "19/19 [==============================] - 13s 669ms/step - d_loss: 0.2700 - g_loss: 1.8152\n",
            "Epoch 78/500\n",
            "19/19 [==============================] - 13s 670ms/step - d_loss: 0.2700 - g_loss: 1.8146\n",
            "Epoch 79/500\n",
            "19/19 [==============================] - 13s 670ms/step - d_loss: 0.2690 - g_loss: 1.8214\n",
            "Epoch 80/500\n",
            "19/19 [==============================] - 13s 669ms/step - d_loss: 0.2684 - g_loss: 1.8300\n",
            "Epoch 81/500\n",
            "19/19 [==============================] - 13s 669ms/step - d_loss: 0.2690 - g_loss: 1.8306\n",
            "Epoch 82/500\n",
            "19/19 [==============================] - 13s 668ms/step - d_loss: 0.2698 - g_loss: 1.8345\n",
            "Epoch 83/500\n",
            "19/19 [==============================] - 13s 669ms/step - d_loss: 0.2693 - g_loss: 1.8380\n",
            "Epoch 84/500\n",
            "19/19 [==============================] - 13s 668ms/step - d_loss: 0.2674 - g_loss: 1.8547\n",
            "Epoch 85/500\n",
            "19/19 [==============================] - 13s 667ms/step - d_loss: 0.2696 - g_loss: 1.8450\n",
            "Epoch 86/500\n",
            "19/19 [==============================] - 13s 668ms/step - d_loss: 0.2707 - g_loss: 1.8511\n",
            "Epoch 87/500\n",
            "19/19 [==============================] - 13s 670ms/step - d_loss: 0.2692 - g_loss: 1.8546\n",
            "Epoch 88/500\n",
            "19/19 [==============================] - 13s 669ms/step - d_loss: 0.2688 - g_loss: 1.8569\n",
            "Epoch 89/500\n",
            "19/19 [==============================] - 13s 670ms/step - d_loss: 0.2693 - g_loss: 1.8681\n",
            "Epoch 90/500\n",
            "19/19 [==============================] - 13s 669ms/step - d_loss: 0.2703 - g_loss: 1.8629\n",
            "Epoch 91/500\n",
            "19/19 [==============================] - 13s 670ms/step - d_loss: 0.2708 - g_loss: 1.8603\n",
            "Epoch 92/500\n",
            "19/19 [==============================] - 13s 669ms/step - d_loss: 0.2678 - g_loss: 1.8797\n",
            "Epoch 93/500\n",
            "19/19 [==============================] - 13s 669ms/step - d_loss: 0.2690 - g_loss: 1.8787\n",
            "Epoch 94/500\n",
            "19/19 [==============================] - 13s 669ms/step - d_loss: 0.2700 - g_loss: 1.8803\n",
            "Epoch 95/500\n",
            "19/19 [==============================] - 13s 670ms/step - d_loss: 0.2694 - g_loss: 1.8844\n",
            "Epoch 96/500\n",
            "19/19 [==============================] - 13s 670ms/step - d_loss: 0.2694 - g_loss: 1.8844\n",
            "Epoch 97/500\n",
            "19/19 [==============================] - 13s 670ms/step - d_loss: 0.2693 - g_loss: 1.8947\n",
            "Epoch 98/500\n",
            "19/19 [==============================] - 13s 670ms/step - d_loss: 0.2688 - g_loss: 1.9001\n",
            "Epoch 99/500\n",
            "19/19 [==============================] - 13s 670ms/step - d_loss: 0.2697 - g_loss: 1.8951\n",
            "Epoch 100/500\n",
            "19/19 [==============================] - 13s 670ms/step - d_loss: 0.2695 - g_loss: 1.9127\n",
            "Epoch 101/500\n",
            "19/19 [==============================] - 13s 670ms/step - d_loss: 0.2670 - g_loss: 1.9157\n",
            "Epoch 102/500\n",
            "19/19 [==============================] - 13s 670ms/step - d_loss: 0.2683 - g_loss: 1.9148\n",
            "Epoch 103/500\n",
            "19/19 [==============================] - 13s 670ms/step - d_loss: 0.2675 - g_loss: 1.9278\n",
            "Epoch 104/500\n",
            "19/19 [==============================] - 13s 671ms/step - d_loss: 0.2692 - g_loss: 1.9283\n",
            "Epoch 105/500\n",
            "19/19 [==============================] - 13s 671ms/step - d_loss: 0.2686 - g_loss: 1.9315\n",
            "Epoch 106/500\n",
            "19/19 [==============================] - 13s 671ms/step - d_loss: 0.2712 - g_loss: 1.9310\n",
            "Epoch 107/500\n",
            "19/19 [==============================] - 13s 670ms/step - d_loss: 0.2690 - g_loss: 1.9366\n",
            "Epoch 108/500\n",
            "19/19 [==============================] - 13s 671ms/step - d_loss: 0.2687 - g_loss: 1.9387\n",
            "Epoch 109/500\n",
            "19/19 [==============================] - 13s 671ms/step - d_loss: 0.2693 - g_loss: 1.9440\n",
            "Epoch 110/500\n",
            "19/19 [==============================] - 13s 671ms/step - d_loss: 0.2672 - g_loss: 1.9522\n",
            "Epoch 111/500\n",
            "19/19 [==============================] - 13s 669ms/step - d_loss: 0.2688 - g_loss: 1.9554\n",
            "Epoch 112/500\n",
            "19/19 [==============================] - 13s 670ms/step - d_loss: 0.2693 - g_loss: 1.9565\n",
            "Epoch 113/500\n",
            "19/19 [==============================] - 13s 670ms/step - d_loss: 0.2683 - g_loss: 1.9633\n",
            "Epoch 114/500\n",
            "19/19 [==============================] - 13s 670ms/step - d_loss: 0.2703 - g_loss: 1.9544\n",
            "Epoch 115/500\n",
            "19/19 [==============================] - 13s 670ms/step - d_loss: 0.2702 - g_loss: 1.9581\n",
            "Epoch 116/500\n",
            "19/19 [==============================] - 13s 669ms/step - d_loss: 0.2694 - g_loss: 1.9668\n",
            "Epoch 117/500\n",
            "19/19 [==============================] - 13s 670ms/step - d_loss: 0.2694 - g_loss: 1.9705\n",
            "Epoch 118/500\n",
            "19/19 [==============================] - 13s 671ms/step - d_loss: 0.2677 - g_loss: 1.9843\n",
            "Epoch 119/500\n",
            "19/19 [==============================] - 13s 670ms/step - d_loss: 0.2698 - g_loss: 1.9749\n",
            "Epoch 120/500\n",
            "19/19 [==============================] - 13s 671ms/step - d_loss: 0.2691 - g_loss: 1.9817\n",
            "Epoch 121/500\n",
            "19/19 [==============================] - 13s 669ms/step - d_loss: 0.2690 - g_loss: 1.9785\n",
            "Epoch 122/500\n",
            "19/19 [==============================] - 13s 669ms/step - d_loss: 0.2669 - g_loss: 1.9997\n",
            "Epoch 123/500\n",
            "19/19 [==============================] - 13s 670ms/step - d_loss: 0.2668 - g_loss: 2.0073\n",
            "Epoch 124/500\n",
            "19/19 [==============================] - 13s 670ms/step - d_loss: 0.2676 - g_loss: 2.0005\n",
            "Epoch 125/500\n",
            "19/19 [==============================] - 13s 670ms/step - d_loss: 0.2676 - g_loss: 2.0071\n",
            "Epoch 126/500\n",
            "19/19 [==============================] - 13s 670ms/step - d_loss: 0.2669 - g_loss: 2.0130\n",
            "Epoch 127/500\n",
            "19/19 [==============================] - 13s 670ms/step - d_loss: 0.2686 - g_loss: 2.0072\n",
            "Epoch 128/500\n",
            "19/19 [==============================] - 13s 671ms/step - d_loss: 0.2690 - g_loss: 2.0042\n",
            "Epoch 129/500\n",
            "19/19 [==============================] - 13s 670ms/step - d_loss: 0.2665 - g_loss: 2.0228\n",
            "Epoch 130/500\n",
            "19/19 [==============================] - 13s 669ms/step - d_loss: 0.2669 - g_loss: 2.0227\n",
            "Epoch 131/500\n",
            "19/19 [==============================] - 13s 670ms/step - d_loss: 0.2678 - g_loss: 2.0228\n",
            "Epoch 132/500\n",
            "19/19 [==============================] - 13s 669ms/step - d_loss: 0.2686 - g_loss: 2.0197\n",
            "Epoch 133/500\n",
            "19/19 [==============================] - 13s 669ms/step - d_loss: 0.2683 - g_loss: 2.0256\n",
            "Epoch 134/500\n",
            "19/19 [==============================] - 13s 669ms/step - d_loss: 0.2661 - g_loss: 2.0370\n",
            "Epoch 135/500\n",
            "19/19 [==============================] - 13s 705ms/step - d_loss: 0.2693 - g_loss: 2.0202\n",
            "Epoch 136/500\n",
            "19/19 [==============================] - 13s 705ms/step - d_loss: 0.2669 - g_loss: 2.0396\n",
            "Epoch 137/500\n",
            "19/19 [==============================] - 13s 712ms/step - d_loss: 0.2686 - g_loss: 2.0252\n",
            "Epoch 138/500\n",
            "19/19 [==============================] - 13s 704ms/step - d_loss: 0.2660 - g_loss: 2.0434\n",
            "Epoch 139/500\n",
            "19/19 [==============================] - 13s 703ms/step - d_loss: 0.2693 - g_loss: 2.0401\n",
            "Epoch 140/500\n",
            "19/19 [==============================] - 13s 707ms/step - d_loss: 0.2669 - g_loss: 2.0469\n",
            "Epoch 141/500\n",
            "19/19 [==============================] - 13s 708ms/step - d_loss: 0.2676 - g_loss: 2.0407\n",
            "Epoch 142/500\n",
            "19/19 [==============================] - 13s 711ms/step - d_loss: 0.2676 - g_loss: 2.0450\n",
            "Epoch 143/500\n",
            "19/19 [==============================] - 13s 711ms/step - d_loss: 0.2677 - g_loss: 2.0466\n",
            "Epoch 144/500\n",
            "19/19 [==============================] - 13s 703ms/step - d_loss: 0.2682 - g_loss: 2.0457\n",
            "Epoch 145/500\n",
            "19/19 [==============================] - 13s 701ms/step - d_loss: 0.2662 - g_loss: 2.0605\n",
            "Epoch 146/500\n",
            "19/19 [==============================] - 13s 709ms/step - d_loss: 0.2689 - g_loss: 2.0573\n",
            "Epoch 147/500\n",
            "19/19 [==============================] - 13s 704ms/step - d_loss: 0.2677 - g_loss: 2.0566\n",
            "Epoch 148/500\n",
            "19/19 [==============================] - 13s 708ms/step - d_loss: 0.2675 - g_loss: 2.0584\n",
            "Epoch 149/500\n",
            "19/19 [==============================] - 13s 706ms/step - d_loss: 0.2679 - g_loss: 2.0569\n",
            "Epoch 150/500\n",
            "19/19 [==============================] - 13s 706ms/step - d_loss: 0.2692 - g_loss: 2.0575\n",
            "Epoch 151/500\n",
            "19/19 [==============================] - 13s 707ms/step - d_loss: 0.2697 - g_loss: 2.0648\n",
            "Epoch 152/500\n",
            "19/19 [==============================] - 13s 704ms/step - d_loss: 0.2700 - g_loss: 2.0636\n",
            "Epoch 153/500\n",
            "19/19 [==============================] - 13s 705ms/step - d_loss: 0.2688 - g_loss: 2.0626\n",
            "Epoch 154/500\n",
            "19/19 [==============================] - 13s 703ms/step - d_loss: 0.2686 - g_loss: 2.0690\n",
            "Epoch 155/500\n",
            "19/19 [==============================] - 13s 711ms/step - d_loss: 0.2678 - g_loss: 2.0792\n",
            "Epoch 156/500\n",
            "19/19 [==============================] - 13s 704ms/step - d_loss: 0.2697 - g_loss: 2.0737\n",
            "Epoch 157/500\n",
            "19/19 [==============================] - 13s 706ms/step - d_loss: 0.2676 - g_loss: 2.0748\n",
            "Epoch 158/500\n",
            "19/19 [==============================] - 13s 704ms/step - d_loss: 0.2686 - g_loss: 2.0784\n",
            "Epoch 159/500\n",
            "19/19 [==============================] - 13s 705ms/step - d_loss: 0.2671 - g_loss: 2.0822\n",
            "Epoch 160/500\n",
            "19/19 [==============================] - 13s 698ms/step - d_loss: 0.2668 - g_loss: 2.0852\n",
            "Epoch 161/500\n",
            "19/19 [==============================] - 13s 706ms/step - d_loss: 0.2655 - g_loss: 2.0975\n",
            "Epoch 162/500\n",
            "19/19 [==============================] - 13s 711ms/step - d_loss: 0.2669 - g_loss: 2.0877\n",
            "Epoch 163/500\n",
            "19/19 [==============================] - 13s 706ms/step - d_loss: 0.2679 - g_loss: 2.0766\n",
            "Epoch 164/500\n",
            "19/19 [==============================] - 13s 710ms/step - d_loss: 0.2680 - g_loss: 2.0913\n",
            "Epoch 165/500\n",
            "19/19 [==============================] - 13s 702ms/step - d_loss: 0.2687 - g_loss: 2.0738\n",
            "Epoch 166/500\n",
            "19/19 [==============================] - 13s 707ms/step - d_loss: 0.2682 - g_loss: 2.0805\n",
            "Epoch 167/500\n",
            "19/19 [==============================] - 13s 706ms/step - d_loss: 0.2695 - g_loss: 2.0725\n",
            "Epoch 168/500\n",
            "19/19 [==============================] - 13s 704ms/step - d_loss: 0.2681 - g_loss: 2.0825\n",
            "Epoch 169/500\n",
            "19/19 [==============================] - 13s 703ms/step - d_loss: 0.2682 - g_loss: 2.0735\n",
            "Epoch 170/500\n",
            "19/19 [==============================] - 13s 703ms/step - d_loss: 0.2697 - g_loss: 2.0773\n",
            "Epoch 171/500\n",
            "19/19 [==============================] - 13s 704ms/step - d_loss: 0.2663 - g_loss: 2.0782\n",
            "Epoch 172/500\n",
            "19/19 [==============================] - 13s 704ms/step - d_loss: 0.2687 - g_loss: 2.0773\n",
            "Epoch 173/500\n",
            "19/19 [==============================] - 13s 710ms/step - d_loss: 0.2672 - g_loss: 2.0792\n",
            "Epoch 174/500\n",
            "19/19 [==============================] - 13s 706ms/step - d_loss: 0.2659 - g_loss: 2.0855\n",
            "Epoch 175/500\n",
            "19/19 [==============================] - 13s 708ms/step - d_loss: 0.2681 - g_loss: 2.0705\n",
            "Epoch 176/500\n",
            "19/19 [==============================] - 13s 701ms/step - d_loss: 0.2682 - g_loss: 2.0743\n",
            "Epoch 177/500\n",
            "19/19 [==============================] - 13s 705ms/step - d_loss: 0.2678 - g_loss: 2.0830\n",
            "Epoch 178/500\n",
            "19/19 [==============================] - 14s 714ms/step - d_loss: 0.2671 - g_loss: 2.0709\n",
            "Epoch 179/500\n",
            "19/19 [==============================] - 13s 702ms/step - d_loss: 0.2681 - g_loss: 2.0693\n",
            "Epoch 180/500\n",
            "19/19 [==============================] - 13s 705ms/step - d_loss: 0.2673 - g_loss: 2.0774\n",
            "Epoch 181/500\n",
            "19/19 [==============================] - 13s 703ms/step - d_loss: 0.2676 - g_loss: 2.0776\n",
            "Epoch 182/500\n",
            "19/19 [==============================] - 13s 703ms/step - d_loss: 0.2679 - g_loss: 2.0675\n",
            "Epoch 183/500\n",
            "19/19 [==============================] - 13s 705ms/step - d_loss: 0.2658 - g_loss: 2.0715\n",
            "Epoch 184/500\n",
            "19/19 [==============================] - 13s 709ms/step - d_loss: 0.2671 - g_loss: 2.0654\n",
            "Epoch 185/500\n",
            "19/19 [==============================] - 13s 704ms/step - d_loss: 0.2674 - g_loss: 2.0584\n",
            "Epoch 186/500\n",
            "19/19 [==============================] - 13s 701ms/step - d_loss: 0.2675 - g_loss: 2.0656\n",
            "Epoch 187/500\n",
            "19/19 [==============================] - 13s 704ms/step - d_loss: 0.7422 - g_loss: 1.9453\n",
            "Epoch 188/500\n",
            "19/19 [==============================] - 13s 708ms/step - d_loss: 1.6209 - g_loss: 0.8054\n",
            "Epoch 189/500\n",
            "19/19 [==============================] - 13s 701ms/step - d_loss: 0.8128 - g_loss: 0.7207\n",
            "Epoch 190/500\n",
            "19/19 [==============================] - 13s 705ms/step - d_loss: 0.4062 - g_loss: 1.5129\n",
            "Epoch 191/500\n",
            "19/19 [==============================] - 13s 702ms/step - d_loss: 0.2752 - g_loss: 2.6400\n",
            "Epoch 192/500\n",
            "19/19 [==============================] - 13s 697ms/step - d_loss: 0.2747 - g_loss: 2.8069\n",
            "Epoch 193/500\n",
            "19/19 [==============================] - 13s 704ms/step - d_loss: 0.2714 - g_loss: 2.6111\n",
            "Epoch 194/500\n",
            "19/19 [==============================] - 13s 696ms/step - d_loss: 0.2698 - g_loss: 2.5620\n",
            "Epoch 195/500\n",
            "19/19 [==============================] - 13s 704ms/step - d_loss: 0.2688 - g_loss: 2.5796\n",
            "Epoch 196/500\n",
            "19/19 [==============================] - 13s 706ms/step - d_loss: 0.2701 - g_loss: 2.5913\n",
            "Epoch 197/500\n",
            "19/19 [==============================] - 13s 700ms/step - d_loss: 0.2709 - g_loss: 2.5835\n",
            "Epoch 198/500\n",
            "19/19 [==============================] - 13s 695ms/step - d_loss: 0.2726 - g_loss: 2.5752\n",
            "Epoch 199/500\n",
            "19/19 [==============================] - 13s 702ms/step - d_loss: 0.2717 - g_loss: 2.5699\n",
            "Epoch 200/500\n",
            "19/19 [==============================] - 13s 699ms/step - d_loss: 0.2705 - g_loss: 2.5709\n",
            "Epoch 201/500\n",
            "19/19 [==============================] - 13s 697ms/step - d_loss: 0.2705 - g_loss: 2.5755\n",
            "Epoch 202/500\n",
            "19/19 [==============================] - 13s 706ms/step - d_loss: 0.2691 - g_loss: 2.5831\n",
            "Epoch 203/500\n",
            "19/19 [==============================] - 13s 707ms/step - d_loss: 0.2720 - g_loss: 2.5802\n",
            "Epoch 204/500\n",
            "19/19 [==============================] - 13s 703ms/step - d_loss: 0.2715 - g_loss: 2.5713\n",
            "Epoch 205/500\n",
            "19/19 [==============================] - 13s 702ms/step - d_loss: 0.2681 - g_loss: 2.5767\n",
            "Epoch 206/500\n",
            "19/19 [==============================] - 13s 705ms/step - d_loss: 0.2695 - g_loss: 2.5914\n",
            "Epoch 207/500\n",
            "19/19 [==============================] - 13s 699ms/step - d_loss: 0.2702 - g_loss: 2.5879\n",
            "Epoch 208/500\n",
            "19/19 [==============================] - 13s 710ms/step - d_loss: 0.2700 - g_loss: 2.5786\n",
            "Epoch 209/500\n",
            "19/19 [==============================] - 13s 698ms/step - d_loss: 0.2689 - g_loss: 2.5828\n",
            "Epoch 210/500\n",
            "19/19 [==============================] - 13s 702ms/step - d_loss: 0.2694 - g_loss: 2.5849\n",
            "Epoch 211/500\n",
            "19/19 [==============================] - 13s 706ms/step - d_loss: 0.2720 - g_loss: 2.5827\n",
            "Epoch 212/500\n",
            "19/19 [==============================] - 13s 712ms/step - d_loss: 0.2696 - g_loss: 2.5800\n",
            "Epoch 213/500\n",
            "19/19 [==============================] - 13s 703ms/step - d_loss: 0.2709 - g_loss: 2.5806\n",
            "Epoch 214/500\n",
            "19/19 [==============================] - 13s 705ms/step - d_loss: 0.2711 - g_loss: 2.5798\n",
            "Epoch 215/500\n",
            "19/19 [==============================] - 13s 703ms/step - d_loss: 0.2687 - g_loss: 2.5827\n",
            "Epoch 216/500\n",
            "19/19 [==============================] - 13s 708ms/step - d_loss: 0.2698 - g_loss: 2.5862\n",
            "Epoch 217/500\n",
            "19/19 [==============================] - 13s 703ms/step - d_loss: 0.2702 - g_loss: 2.5854\n",
            "Epoch 218/500\n",
            "19/19 [==============================] - 13s 706ms/step - d_loss: 0.2701 - g_loss: 2.5776\n",
            "Epoch 219/500\n",
            "19/19 [==============================] - 13s 702ms/step - d_loss: 0.2684 - g_loss: 2.5824\n",
            "Epoch 220/500\n",
            "19/19 [==============================] - 13s 698ms/step - d_loss: 0.2678 - g_loss: 2.5890\n",
            "Epoch 221/500\n",
            "19/19 [==============================] - 13s 707ms/step - d_loss: 0.2699 - g_loss: 2.5902\n",
            "Epoch 222/500\n",
            "19/19 [==============================] - 13s 698ms/step - d_loss: 0.2691 - g_loss: 2.5803\n",
            "Epoch 223/500\n",
            "19/19 [==============================] - 13s 703ms/step - d_loss: 0.2683 - g_loss: 2.5828\n",
            "Epoch 224/500\n",
            "19/19 [==============================] - 13s 705ms/step - d_loss: 0.2697 - g_loss: 2.5888\n",
            "Epoch 225/500\n",
            "19/19 [==============================] - 13s 705ms/step - d_loss: 0.2702 - g_loss: 2.5819\n",
            "Epoch 226/500\n",
            "19/19 [==============================] - 13s 710ms/step - d_loss: 0.2696 - g_loss: 2.5817\n",
            "Epoch 227/500\n",
            "19/19 [==============================] - 13s 698ms/step - d_loss: 0.2707 - g_loss: 2.5812\n",
            "Epoch 228/500\n",
            "19/19 [==============================] - 13s 704ms/step - d_loss: 0.2702 - g_loss: 2.5833\n",
            "Epoch 229/500\n",
            "19/19 [==============================] - 13s 706ms/step - d_loss: 0.2685 - g_loss: 2.5869\n",
            "Epoch 230/500\n",
            "19/19 [==============================] - 13s 702ms/step - d_loss: 0.2689 - g_loss: 2.5826\n",
            "Epoch 231/500\n",
            "19/19 [==============================] - 13s 711ms/step - d_loss: 0.2698 - g_loss: 2.5913\n",
            "Epoch 232/500\n",
            "19/19 [==============================] - 13s 707ms/step - d_loss: 0.2700 - g_loss: 2.5856\n",
            "Epoch 233/500\n",
            "19/19 [==============================] - 13s 699ms/step - d_loss: 0.2691 - g_loss: 2.5825\n",
            "Epoch 234/500\n",
            "19/19 [==============================] - 13s 704ms/step - d_loss: 0.2703 - g_loss: 2.5785\n",
            "Epoch 235/500\n",
            "19/19 [==============================] - 13s 707ms/step - d_loss: 0.2679 - g_loss: 2.5875\n",
            "Epoch 236/500\n",
            "19/19 [==============================] - 14s 715ms/step - d_loss: 0.2675 - g_loss: 2.5940\n",
            "Epoch 237/500\n",
            "19/19 [==============================] - 13s 701ms/step - d_loss: 0.2707 - g_loss: 2.5907\n",
            "Epoch 238/500\n",
            "19/19 [==============================] - 14s 715ms/step - d_loss: 0.2689 - g_loss: 2.5783\n",
            "Epoch 239/500\n",
            "19/19 [==============================] - 13s 698ms/step - d_loss: 0.2700 - g_loss: 2.5889\n",
            "Epoch 240/500\n",
            "19/19 [==============================] - 13s 700ms/step - d_loss: 0.2702 - g_loss: 2.5833\n",
            "Epoch 241/500\n",
            "19/19 [==============================] - 13s 703ms/step - d_loss: 0.2695 - g_loss: 2.5816\n",
            "Epoch 242/500\n",
            "19/19 [==============================] - 13s 709ms/step - d_loss: 0.2705 - g_loss: 2.5843\n",
            "Epoch 243/500\n",
            "19/19 [==============================] - 13s 708ms/step - d_loss: 0.2688 - g_loss: 2.5836\n",
            "Epoch 244/500\n",
            "19/19 [==============================] - 13s 701ms/step - d_loss: 0.2707 - g_loss: 2.5863\n",
            "Epoch 245/500\n",
            "19/19 [==============================] - 13s 707ms/step - d_loss: 0.2698 - g_loss: 2.5777\n",
            "Epoch 246/500\n",
            "19/19 [==============================] - 13s 709ms/step - d_loss: 0.2688 - g_loss: 2.5840\n",
            "Epoch 247/500\n",
            "19/19 [==============================] - 13s 699ms/step - d_loss: 0.2701 - g_loss: 2.5895\n",
            "Epoch 248/500\n",
            "19/19 [==============================] - 13s 699ms/step - d_loss: 0.2714 - g_loss: 2.5774\n",
            "Epoch 249/500\n",
            "19/19 [==============================] - 13s 694ms/step - d_loss: 0.2685 - g_loss: 2.5816\n",
            "Epoch 250/500\n",
            "19/19 [==============================] - 13s 706ms/step - d_loss: 0.2682 - g_loss: 2.5961\n",
            "Epoch 251/500\n",
            "19/19 [==============================] - 13s 701ms/step - d_loss: 0.2688 - g_loss: 2.5922\n",
            "Epoch 252/500\n",
            "19/19 [==============================] - 13s 707ms/step - d_loss: 0.2697 - g_loss: 2.5836\n",
            "Epoch 253/500\n",
            "19/19 [==============================] - 13s 707ms/step - d_loss: 0.2673 - g_loss: 2.5932\n",
            "Epoch 254/500\n",
            "19/19 [==============================] - 13s 699ms/step - d_loss: 0.2713 - g_loss: 2.5851\n",
            "Epoch 255/500\n",
            "19/19 [==============================] - 13s 702ms/step - d_loss: 0.2686 - g_loss: 2.5816\n",
            "Epoch 256/500\n",
            "19/19 [==============================] - 13s 696ms/step - d_loss: 0.2702 - g_loss: 2.5923\n",
            "Epoch 257/500\n",
            "19/19 [==============================] - 13s 690ms/step - d_loss: 0.2686 - g_loss: 2.5861\n",
            "Epoch 258/500\n",
            "19/19 [==============================] - 13s 700ms/step - d_loss: 0.2694 - g_loss: 2.5871\n",
            "Epoch 259/500\n",
            "19/19 [==============================] - 13s 698ms/step - d_loss: 0.2688 - g_loss: 2.5906\n",
            "Epoch 260/500\n",
            "19/19 [==============================] - 13s 700ms/step - d_loss: 0.2704 - g_loss: 2.5871\n",
            "Epoch 261/500\n",
            "19/19 [==============================] - 13s 696ms/step - d_loss: 0.2701 - g_loss: 2.5749\n",
            "Epoch 262/500\n",
            "19/19 [==============================] - 13s 701ms/step - d_loss: 0.2694 - g_loss: 2.5888\n",
            "Epoch 263/500\n",
            "19/19 [==============================] - 13s 700ms/step - d_loss: 0.2682 - g_loss: 2.5911\n",
            "Epoch 264/500\n",
            "19/19 [==============================] - 13s 701ms/step - d_loss: 0.2695 - g_loss: 2.5937\n",
            "Epoch 265/500\n",
            "19/19 [==============================] - 14s 721ms/step - d_loss: 0.2705 - g_loss: 2.5857\n",
            "Epoch 266/500\n",
            "19/19 [==============================] - 13s 700ms/step - d_loss: 0.2695 - g_loss: 2.5758\n",
            "Epoch 267/500\n",
            "19/19 [==============================] - 13s 707ms/step - d_loss: 0.2694 - g_loss: 2.5864\n",
            "Epoch 268/500\n",
            "19/19 [==============================] - 13s 705ms/step - d_loss: 0.2695 - g_loss: 2.5875\n",
            "Epoch 269/500\n",
            "19/19 [==============================] - 13s 701ms/step - d_loss: 0.8730 - g_loss: 1.1304\n",
            "Epoch 270/500\n",
            "19/19 [==============================] - 13s 693ms/step - d_loss: 0.3658 - g_loss: 1.3970\n",
            "Epoch 271/500\n",
            "19/19 [==============================] - 13s 693ms/step - d_loss: 0.3185 - g_loss: 0.8972\n",
            "Epoch 272/500\n",
            "19/19 [==============================] - 13s 694ms/step - d_loss: 0.3061 - g_loss: 1.0218\n",
            "Epoch 273/500\n",
            "19/19 [==============================] - 13s 700ms/step - d_loss: 0.2983 - g_loss: 0.9679\n",
            "Epoch 274/500\n",
            "19/19 [==============================] - 13s 690ms/step - d_loss: 0.2939 - g_loss: 0.9777\n",
            "Epoch 275/500\n",
            "19/19 [==============================] - 13s 694ms/step - d_loss: 0.2922 - g_loss: 0.9642\n",
            "Epoch 276/500\n",
            "19/19 [==============================] - 13s 701ms/step - d_loss: 0.2902 - g_loss: 0.9547\n",
            "Epoch 277/500\n",
            "19/19 [==============================] - 13s 700ms/step - d_loss: 0.2882 - g_loss: 0.9527\n",
            "Epoch 278/500\n",
            "19/19 [==============================] - 13s 699ms/step - d_loss: 0.2866 - g_loss: 0.9398\n",
            "Epoch 279/500\n",
            "19/19 [==============================] - 13s 703ms/step - d_loss: 0.2865 - g_loss: 0.9339\n",
            "Epoch 280/500\n",
            "19/19 [==============================] - 13s 694ms/step - d_loss: 0.2822 - g_loss: 0.9316\n",
            "Epoch 281/500\n",
            "19/19 [==============================] - 13s 692ms/step - d_loss: 0.2812 - g_loss: 0.9268\n",
            "Epoch 282/500\n",
            "19/19 [==============================] - 13s 696ms/step - d_loss: 0.2798 - g_loss: 0.9194\n",
            "Epoch 283/500\n",
            "19/19 [==============================] - 13s 692ms/step - d_loss: 0.2807 - g_loss: 0.9105\n",
            "Epoch 284/500\n",
            "19/19 [==============================] - 13s 699ms/step - d_loss: 0.2789 - g_loss: 0.9031\n",
            "Epoch 285/500\n",
            "19/19 [==============================] - 13s 696ms/step - d_loss: 0.2785 - g_loss: 0.9022\n",
            "Epoch 286/500\n",
            "19/19 [==============================] - 13s 702ms/step - d_loss: 0.2760 - g_loss: 0.9032\n",
            "Epoch 287/500\n",
            "19/19 [==============================] - 13s 698ms/step - d_loss: 0.2753 - g_loss: 0.8938\n",
            "Epoch 288/500\n",
            "19/19 [==============================] - 13s 689ms/step - d_loss: 0.2758 - g_loss: 0.8916\n",
            "Epoch 289/500\n",
            "19/19 [==============================] - 13s 700ms/step - d_loss: 0.2739 - g_loss: 0.8950\n",
            "Epoch 290/500\n",
            "19/19 [==============================] - 13s 690ms/step - d_loss: 0.2728 - g_loss: 0.9012\n",
            "Epoch 291/500\n",
            "19/19 [==============================] - 13s 697ms/step - d_loss: 0.2721 - g_loss: 0.8999\n",
            "Epoch 292/500\n",
            "19/19 [==============================] - 13s 698ms/step - d_loss: 0.2730 - g_loss: 0.9043\n",
            "Epoch 293/500\n",
            "19/19 [==============================] - 13s 694ms/step - d_loss: 0.2714 - g_loss: 0.9134\n",
            "Epoch 294/500\n",
            "19/19 [==============================] - 13s 697ms/step - d_loss: 0.2731 - g_loss: 0.9201\n",
            "Epoch 295/500\n",
            "19/19 [==============================] - 13s 696ms/step - d_loss: 0.2704 - g_loss: 0.9307\n",
            "Epoch 296/500\n",
            "19/19 [==============================] - 13s 697ms/step - d_loss: 0.2729 - g_loss: 0.9375\n",
            "Epoch 297/500\n",
            "19/19 [==============================] - 13s 695ms/step - d_loss: 0.2714 - g_loss: 0.9491\n",
            "Epoch 298/500\n",
            "19/19 [==============================] - 13s 691ms/step - d_loss: 0.2694 - g_loss: 0.9610\n",
            "Epoch 299/500\n",
            "19/19 [==============================] - 13s 697ms/step - d_loss: 0.2703 - g_loss: 0.9763\n",
            "Epoch 300/500\n",
            "19/19 [==============================] - 13s 695ms/step - d_loss: 0.2703 - g_loss: 0.9830\n",
            "Epoch 301/500\n",
            "19/19 [==============================] - 13s 698ms/step - d_loss: 0.2709 - g_loss: 0.9945\n",
            "Epoch 302/500\n",
            "19/19 [==============================] - 13s 696ms/step - d_loss: 0.2708 - g_loss: 1.0086\n",
            "Epoch 303/500\n",
            "19/19 [==============================] - 13s 695ms/step - d_loss: 0.2780 - g_loss: 1.0357\n",
            "Epoch 304/500\n",
            "19/19 [==============================] - 13s 702ms/step - d_loss: 0.3389 - g_loss: 1.1070\n",
            "Epoch 305/500\n",
            "19/19 [==============================] - 13s 706ms/step - d_loss: 1.0467 - g_loss: 0.5521\n",
            "Epoch 306/500\n",
            "19/19 [==============================] - 13s 700ms/step - d_loss: 0.3550 - g_loss: 1.7764\n",
            "Epoch 307/500\n",
            "19/19 [==============================] - 13s 701ms/step - d_loss: 0.3281 - g_loss: 1.4785\n",
            "Epoch 308/500\n",
            "19/19 [==============================] - 13s 707ms/step - d_loss: 0.3176 - g_loss: 1.4744\n",
            "Epoch 309/500\n",
            "19/19 [==============================] - 13s 710ms/step - d_loss: 0.3205 - g_loss: 1.5076\n",
            "Epoch 310/500\n",
            "19/19 [==============================] - 13s 705ms/step - d_loss: 0.3419 - g_loss: 1.0304\n",
            "Epoch 311/500\n",
            "19/19 [==============================] - 13s 708ms/step - d_loss: 0.3350 - g_loss: 1.1397\n",
            "Epoch 312/500\n",
            "19/19 [==============================] - 13s 702ms/step - d_loss: 0.3308 - g_loss: 1.0695\n",
            "Epoch 313/500\n",
            "19/19 [==============================] - 13s 703ms/step - d_loss: 0.3292 - g_loss: 1.1222\n",
            "Epoch 314/500\n",
            "19/19 [==============================] - 14s 715ms/step - d_loss: 0.3282 - g_loss: 1.1382\n",
            "Epoch 315/500\n",
            "19/19 [==============================] - 13s 704ms/step - d_loss: 0.3278 - g_loss: 1.1656\n",
            "Epoch 316/500\n",
            "19/19 [==============================] - 13s 707ms/step - d_loss: 0.3282 - g_loss: 1.1906\n",
            "Epoch 317/500\n",
            "19/19 [==============================] - 13s 702ms/step - d_loss: 0.3259 - g_loss: 1.2150\n",
            "Epoch 318/500\n",
            "19/19 [==============================] - 13s 705ms/step - d_loss: 0.3261 - g_loss: 1.2466\n",
            "Epoch 319/500\n",
            "19/19 [==============================] - 13s 708ms/step - d_loss: 0.3274 - g_loss: 1.2565\n",
            "Epoch 320/500\n",
            "19/19 [==============================] - 13s 706ms/step - d_loss: 0.3272 - g_loss: 1.2786\n",
            "Epoch 321/500\n",
            "19/19 [==============================] - 13s 708ms/step - d_loss: 0.3258 - g_loss: 1.3041\n",
            "Epoch 322/500\n",
            "19/19 [==============================] - 13s 706ms/step - d_loss: 0.3258 - g_loss: 1.3206\n",
            "Epoch 323/500\n",
            "19/19 [==============================] - 13s 706ms/step - d_loss: 0.3244 - g_loss: 1.3379\n",
            "Epoch 324/500\n",
            "19/19 [==============================] - 14s 714ms/step - d_loss: 0.3247 - g_loss: 1.3569\n",
            "Epoch 325/500\n",
            "19/19 [==============================] - 13s 710ms/step - d_loss: 0.3256 - g_loss: 1.3595\n",
            "Epoch 326/500\n",
            "19/19 [==============================] - 13s 710ms/step - d_loss: 0.3229 - g_loss: 1.3756\n",
            "Epoch 327/500\n",
            "19/19 [==============================] - 13s 706ms/step - d_loss: 0.3235 - g_loss: 1.4032\n",
            "Epoch 328/500\n",
            "19/19 [==============================] - 13s 705ms/step - d_loss: 0.3218 - g_loss: 1.4266\n",
            "Epoch 329/500\n",
            "19/19 [==============================] - 14s 714ms/step - d_loss: 0.3234 - g_loss: 1.4222\n",
            "Epoch 330/500\n",
            "19/19 [==============================] - 13s 702ms/step - d_loss: 0.3239 - g_loss: 1.3878\n",
            "Epoch 331/500\n",
            "19/19 [==============================] - 13s 711ms/step - d_loss: 0.3241 - g_loss: 1.3806\n",
            "Epoch 332/500\n",
            "19/19 [==============================] - 13s 705ms/step - d_loss: 0.3240 - g_loss: 1.3945\n",
            "Epoch 333/500\n",
            "19/19 [==============================] - 13s 707ms/step - d_loss: 0.3214 - g_loss: 1.4024\n",
            "Epoch 334/500\n",
            "19/19 [==============================] - 13s 710ms/step - d_loss: 0.3225 - g_loss: 1.4055\n",
            "Epoch 335/500\n",
            "19/19 [==============================] - 13s 711ms/step - d_loss: 0.3206 - g_loss: 1.4099\n",
            "Epoch 336/500\n",
            "19/19 [==============================] - 13s 709ms/step - d_loss: 0.3227 - g_loss: 1.4143\n",
            "Epoch 337/500\n",
            "19/19 [==============================] - 13s 713ms/step - d_loss: 0.3225 - g_loss: 1.4156\n",
            "Epoch 338/500\n",
            "19/19 [==============================] - 13s 704ms/step - d_loss: 0.3220 - g_loss: 1.4156\n",
            "Epoch 339/500\n",
            "19/19 [==============================] - 13s 708ms/step - d_loss: 0.3227 - g_loss: 1.4306\n",
            "Epoch 340/500\n",
            "19/19 [==============================] - 13s 710ms/step - d_loss: 0.3242 - g_loss: 1.4377\n",
            "Epoch 341/500\n",
            "19/19 [==============================] - 13s 708ms/step - d_loss: 0.3240 - g_loss: 1.4410\n",
            "Epoch 342/500\n",
            "19/19 [==============================] - 13s 711ms/step - d_loss: 0.3230 - g_loss: 1.4442\n",
            "Epoch 343/500\n",
            "19/19 [==============================] - 13s 707ms/step - d_loss: 0.3227 - g_loss: 1.4517\n",
            "Epoch 344/500\n",
            "19/19 [==============================] - 13s 703ms/step - d_loss: 0.3226 - g_loss: 1.4564\n",
            "Epoch 345/500\n",
            "19/19 [==============================] - 13s 710ms/step - d_loss: 0.3229 - g_loss: 1.4616\n",
            "Epoch 346/500\n",
            "19/19 [==============================] - 13s 712ms/step - d_loss: 0.3214 - g_loss: 1.4749\n",
            "Epoch 347/500\n",
            "19/19 [==============================] - 13s 713ms/step - d_loss: 0.3202 - g_loss: 1.4796\n",
            "Epoch 348/500\n",
            "19/19 [==============================] - 14s 714ms/step - d_loss: 0.3202 - g_loss: 1.4892\n",
            "Epoch 349/500\n",
            "19/19 [==============================] - 13s 710ms/step - d_loss: 0.3206 - g_loss: 1.4919\n",
            "Epoch 350/500\n",
            "19/19 [==============================] - 13s 706ms/step - d_loss: 0.3211 - g_loss: 1.5022\n",
            "Epoch 351/500\n",
            "19/19 [==============================] - 13s 702ms/step - d_loss: 0.3198 - g_loss: 1.5212\n",
            "Epoch 352/500\n",
            "19/19 [==============================] - 13s 711ms/step - d_loss: 0.3194 - g_loss: 1.5285\n",
            "Epoch 353/500\n",
            "19/19 [==============================] - 13s 710ms/step - d_loss: 0.3219 - g_loss: 1.5269\n",
            "Epoch 354/500\n",
            "19/19 [==============================] - 13s 709ms/step - d_loss: 0.3222 - g_loss: 1.5053\n",
            "Epoch 355/500\n",
            "19/19 [==============================] - 14s 714ms/step - d_loss: 0.3250 - g_loss: 1.4757\n",
            "Epoch 356/500\n",
            "19/19 [==============================] - 14s 719ms/step - d_loss: 0.3250 - g_loss: 1.5303\n",
            "Epoch 357/500\n",
            "19/19 [==============================] - 13s 702ms/step - d_loss: 0.5202 - g_loss: 1.0324\n",
            "Epoch 358/500\n",
            "19/19 [==============================] - 13s 697ms/step - d_loss: 0.4230 - g_loss: 1.6434\n",
            "Epoch 359/500\n",
            "19/19 [==============================] - 13s 701ms/step - d_loss: 0.3087 - g_loss: 2.7697\n",
            "Epoch 360/500\n",
            "19/19 [==============================] - 13s 704ms/step - d_loss: 0.2923 - g_loss: 2.5319\n",
            "Epoch 361/500\n",
            "19/19 [==============================] - 13s 702ms/step - d_loss: 0.2870 - g_loss: 2.3153\n",
            "Epoch 362/500\n",
            "19/19 [==============================] - 13s 696ms/step - d_loss: 0.2850 - g_loss: 2.2716\n",
            "Epoch 363/500\n",
            "19/19 [==============================] - 13s 699ms/step - d_loss: 0.3079 - g_loss: 1.8124\n",
            "Epoch 364/500\n",
            "19/19 [==============================] - 13s 701ms/step - d_loss: 0.3132 - g_loss: 0.7948\n",
            "Epoch 365/500\n",
            "19/19 [==============================] - 13s 696ms/step - d_loss: 0.2943 - g_loss: 0.7664\n",
            "Epoch 366/500\n",
            "19/19 [==============================] - 13s 692ms/step - d_loss: 0.2900 - g_loss: 0.7722\n",
            "Epoch 367/500\n",
            "19/19 [==============================] - 13s 693ms/step - d_loss: 0.4789 - g_loss: 0.9155\n",
            "Epoch 368/500\n",
            "19/19 [==============================] - 13s 695ms/step - d_loss: 0.3657 - g_loss: 1.6225\n",
            "Epoch 369/500\n",
            "19/19 [==============================] - 13s 694ms/step - d_loss: 0.3352 - g_loss: 1.3739\n",
            "Epoch 370/500\n",
            "19/19 [==============================] - 13s 691ms/step - d_loss: 0.3278 - g_loss: 1.5793\n",
            "Epoch 371/500\n",
            "19/19 [==============================] - 13s 696ms/step - d_loss: 0.3244 - g_loss: 1.5801\n",
            "Epoch 372/500\n",
            "19/19 [==============================] - 13s 696ms/step - d_loss: 0.3226 - g_loss: 1.6594\n",
            "Epoch 373/500\n",
            "19/19 [==============================] - 13s 690ms/step - d_loss: 0.3211 - g_loss: 1.6926\n",
            "Epoch 374/500\n",
            "19/19 [==============================] - 13s 691ms/step - d_loss: 0.3192 - g_loss: 1.7357\n",
            "Epoch 375/500\n",
            "19/19 [==============================] - 13s 689ms/step - d_loss: 0.3196 - g_loss: 1.7693\n",
            "Epoch 376/500\n",
            "19/19 [==============================] - 13s 690ms/step - d_loss: 0.3189 - g_loss: 1.7959\n",
            "Epoch 377/500\n",
            "19/19 [==============================] - 13s 700ms/step - d_loss: 0.3166 - g_loss: 1.8358\n",
            "Epoch 378/500\n",
            "19/19 [==============================] - 13s 688ms/step - d_loss: 0.3156 - g_loss: 1.8592\n",
            "Epoch 379/500\n",
            "19/19 [==============================] - 13s 697ms/step - d_loss: 0.3159 - g_loss: 1.8826\n",
            "Epoch 380/500\n",
            "19/19 [==============================] - 13s 702ms/step - d_loss: 0.3177 - g_loss: 1.8899\n",
            "Epoch 381/500\n",
            "19/19 [==============================] - 13s 699ms/step - d_loss: 0.3196 - g_loss: 1.8890\n",
            "Epoch 382/500\n",
            "19/19 [==============================] - 13s 697ms/step - d_loss: 0.3236 - g_loss: 1.8745\n",
            "Epoch 383/500\n",
            "19/19 [==============================] - 13s 701ms/step - d_loss: 0.3275 - g_loss: 1.8217\n",
            "Epoch 384/500\n",
            "19/19 [==============================] - 13s 698ms/step - d_loss: 0.3263 - g_loss: 1.4478\n",
            "Epoch 385/500\n",
            "19/19 [==============================] - 13s 701ms/step - d_loss: 0.3130 - g_loss: 1.3100\n",
            "Epoch 386/500\n",
            "19/19 [==============================] - 13s 697ms/step - d_loss: 0.3049 - g_loss: 1.3256\n",
            "Epoch 387/500\n",
            "19/19 [==============================] - 13s 703ms/step - d_loss: 0.3018 - g_loss: 1.2843\n",
            "Epoch 388/500\n",
            "19/19 [==============================] - 13s 702ms/step - d_loss: 0.2983 - g_loss: 1.2705\n",
            "Epoch 389/500\n",
            "19/19 [==============================] - 13s 700ms/step - d_loss: 0.2963 - g_loss: 1.2427\n",
            "Epoch 390/500\n",
            "19/19 [==============================] - 13s 706ms/step - d_loss: 0.2966 - g_loss: 1.2134\n",
            "Epoch 391/500\n",
            "19/19 [==============================] - 13s 711ms/step - d_loss: 0.2965 - g_loss: 1.1826\n",
            "Epoch 392/500\n",
            "19/19 [==============================] - 14s 725ms/step - d_loss: 0.3896 - g_loss: 1.0617\n",
            "Epoch 393/500\n",
            "19/19 [==============================] - 13s 705ms/step - d_loss: 0.3342 - g_loss: 2.0342\n",
            "Epoch 394/500\n",
            "19/19 [==============================] - 13s 704ms/step - d_loss: 0.3196 - g_loss: 1.6969\n",
            "Epoch 395/500\n",
            "19/19 [==============================] - 13s 703ms/step - d_loss: 0.3169 - g_loss: 1.9154\n",
            "Epoch 396/500\n",
            "19/19 [==============================] - 13s 705ms/step - d_loss: 0.3141 - g_loss: 1.9269\n",
            "Epoch 397/500\n",
            "19/19 [==============================] - 13s 711ms/step - d_loss: 0.3133 - g_loss: 1.9908\n",
            "Epoch 398/500\n",
            "19/19 [==============================] - 13s 702ms/step - d_loss: 0.3124 - g_loss: 2.0078\n",
            "Epoch 399/500\n",
            "19/19 [==============================] - 13s 706ms/step - d_loss: 0.3103 - g_loss: 2.0278\n",
            "Epoch 400/500\n",
            "19/19 [==============================] - 13s 703ms/step - d_loss: 0.3180 - g_loss: 1.6999\n",
            "Epoch 401/500\n",
            "19/19 [==============================] - 13s 710ms/step - d_loss: 0.3155 - g_loss: 1.5185\n",
            "Epoch 402/500\n",
            "19/19 [==============================] - 13s 712ms/step - d_loss: 0.3086 - g_loss: 1.4273\n",
            "Epoch 403/500\n",
            "19/19 [==============================] - 13s 709ms/step - d_loss: 0.3072 - g_loss: 1.3558\n",
            "Epoch 404/500\n",
            "19/19 [==============================] - 13s 713ms/step - d_loss: 0.3011 - g_loss: 1.3220\n",
            "Epoch 405/500\n",
            "19/19 [==============================] - 13s 704ms/step - d_loss: 0.3014 - g_loss: 1.2972\n",
            "Epoch 406/500\n",
            "19/19 [==============================] - 13s 705ms/step - d_loss: 0.3005 - g_loss: 1.2669\n",
            "Epoch 407/500\n",
            "19/19 [==============================] - 14s 718ms/step - d_loss: 0.3107 - g_loss: 1.2056\n",
            "Epoch 408/500\n",
            "19/19 [==============================] - 13s 706ms/step - d_loss: 0.3366 - g_loss: 1.3056\n",
            "Epoch 409/500\n",
            "19/19 [==============================] - 13s 699ms/step - d_loss: 0.3230 - g_loss: 1.7093\n",
            "Epoch 410/500\n",
            "19/19 [==============================] - 13s 698ms/step - d_loss: 0.3168 - g_loss: 1.6565\n",
            "Epoch 411/500\n",
            "19/19 [==============================] - 13s 711ms/step - d_loss: 0.3142 - g_loss: 1.7587\n",
            "Epoch 412/500\n",
            "19/19 [==============================] - 13s 713ms/step - d_loss: 0.3101 - g_loss: 1.7661\n",
            "Epoch 413/500\n",
            "19/19 [==============================] - 13s 699ms/step - d_loss: 0.3110 - g_loss: 1.8446\n",
            "Epoch 414/500\n",
            "19/19 [==============================] - 13s 705ms/step - d_loss: 0.3074 - g_loss: 1.8696\n",
            "Epoch 415/500\n",
            "19/19 [==============================] - 13s 701ms/step - d_loss: 0.3064 - g_loss: 1.9189\n",
            "Epoch 416/500\n",
            "19/19 [==============================] - 13s 701ms/step - d_loss: 0.3033 - g_loss: 1.9741\n",
            "Epoch 417/500\n",
            "19/19 [==============================] - 13s 698ms/step - d_loss: 0.3015 - g_loss: 1.9863\n",
            "Epoch 418/500\n",
            "19/19 [==============================] - 13s 707ms/step - d_loss: 0.3002 - g_loss: 2.0361\n",
            "Epoch 419/500\n",
            "19/19 [==============================] - 13s 711ms/step - d_loss: 0.2978 - g_loss: 2.0768\n",
            "Epoch 420/500\n",
            "19/19 [==============================] - 13s 711ms/step - d_loss: 0.2948 - g_loss: 2.1323\n",
            "Epoch 421/500\n",
            "19/19 [==============================] - 13s 706ms/step - d_loss: 0.2915 - g_loss: 2.1979\n",
            "Epoch 422/500\n",
            "19/19 [==============================] - 13s 703ms/step - d_loss: 0.2903 - g_loss: 2.2467\n",
            "Epoch 423/500\n",
            "19/19 [==============================] - 13s 704ms/step - d_loss: 0.2883 - g_loss: 2.3131\n",
            "Epoch 424/500\n",
            "19/19 [==============================] - 13s 706ms/step - d_loss: 0.3157 - g_loss: 2.2628\n",
            "Epoch 425/500\n",
            "19/19 [==============================] - 13s 713ms/step - d_loss: 0.3822 - g_loss: 2.1240\n",
            "Epoch 426/500\n",
            "19/19 [==============================] - 13s 703ms/step - d_loss: 0.3387 - g_loss: 1.6864\n",
            "Epoch 427/500\n",
            "19/19 [==============================] - 13s 704ms/step - d_loss: 0.3107 - g_loss: 1.6491\n",
            "Epoch 428/500\n",
            "19/19 [==============================] - 13s 700ms/step - d_loss: 0.3021 - g_loss: 1.6510\n",
            "Epoch 429/500\n",
            "19/19 [==============================] - 13s 705ms/step - d_loss: 0.2969 - g_loss: 1.6499\n",
            "Epoch 430/500\n",
            "19/19 [==============================] - 13s 712ms/step - d_loss: 0.2947 - g_loss: 1.6349\n",
            "Epoch 431/500\n",
            "19/19 [==============================] - 13s 700ms/step - d_loss: 0.4089 - g_loss: 1.2845\n",
            "Epoch 432/500\n",
            "19/19 [==============================] - 13s 700ms/step - d_loss: 0.3101 - g_loss: 2.4559\n",
            "Epoch 433/500\n",
            "19/19 [==============================] - 13s 690ms/step - d_loss: 0.2936 - g_loss: 2.3991\n",
            "Epoch 434/500\n",
            "19/19 [==============================] - 13s 703ms/step - d_loss: 0.2895 - g_loss: 2.1642\n",
            "Epoch 435/500\n",
            "19/19 [==============================] - 13s 699ms/step - d_loss: 0.2909 - g_loss: 2.2267\n",
            "Epoch 436/500\n",
            "19/19 [==============================] - 13s 702ms/step - d_loss: 0.2932 - g_loss: 2.2039\n",
            "Epoch 437/500\n",
            "19/19 [==============================] - 13s 703ms/step - d_loss: 0.2941 - g_loss: 2.1485\n",
            "Epoch 438/500\n",
            "19/19 [==============================] - 13s 691ms/step - d_loss: 0.2949 - g_loss: 2.1324\n",
            "Epoch 439/500\n",
            "19/19 [==============================] - 13s 704ms/step - d_loss: 0.2954 - g_loss: 2.0980\n",
            "Epoch 440/500\n",
            "19/19 [==============================] - 13s 707ms/step - d_loss: 0.3001 - g_loss: 2.0269\n",
            "Epoch 441/500\n",
            "19/19 [==============================] - 13s 707ms/step - d_loss: 0.3016 - g_loss: 1.9809\n",
            "Epoch 442/500\n",
            "19/19 [==============================] - 13s 707ms/step - d_loss: 0.3012 - g_loss: 1.9608\n",
            "Epoch 443/500\n",
            "19/19 [==============================] - 13s 709ms/step - d_loss: 0.3010 - g_loss: 1.8783\n",
            "Epoch 444/500\n",
            "19/19 [==============================] - 13s 708ms/step - d_loss: 0.3071 - g_loss: 1.6172\n",
            "Epoch 445/500\n",
            "19/19 [==============================] - 13s 707ms/step - d_loss: 0.3153 - g_loss: 1.3960\n",
            "Epoch 446/500\n",
            "19/19 [==============================] - 13s 709ms/step - d_loss: 0.3093 - g_loss: 1.0670\n",
            "Epoch 447/500\n",
            "19/19 [==============================] - 14s 719ms/step - d_loss: 0.3063 - g_loss: 1.0155\n",
            "Epoch 448/500\n",
            "19/19 [==============================] - 13s 707ms/step - d_loss: 0.3032 - g_loss: 1.0349\n",
            "Epoch 449/500\n",
            "19/19 [==============================] - 13s 707ms/step - d_loss: 0.3032 - g_loss: 1.0421\n",
            "Epoch 450/500\n",
            "19/19 [==============================] - 13s 706ms/step - d_loss: 0.3011 - g_loss: 1.1007\n",
            "Epoch 451/500\n",
            "19/19 [==============================] - 13s 710ms/step - d_loss: 0.3039 - g_loss: 1.1867\n",
            "Epoch 452/500\n",
            "19/19 [==============================] - 13s 703ms/step - d_loss: 0.3022 - g_loss: 1.2540\n",
            "Epoch 453/500\n",
            "19/19 [==============================] - 13s 711ms/step - d_loss: 0.3028 - g_loss: 1.3114\n",
            "Epoch 454/500\n",
            "19/19 [==============================] - 13s 705ms/step - d_loss: 0.3012 - g_loss: 1.3781\n",
            "Epoch 455/500\n",
            "19/19 [==============================] - 13s 700ms/step - d_loss: 0.3014 - g_loss: 1.3760\n",
            "Epoch 456/500\n",
            "19/19 [==============================] - 14s 718ms/step - d_loss: 0.2978 - g_loss: 1.3837\n",
            "Epoch 457/500\n",
            "19/19 [==============================] - 13s 705ms/step - d_loss: 0.2979 - g_loss: 1.3628\n",
            "Epoch 458/500\n",
            "19/19 [==============================] - 14s 715ms/step - d_loss: 0.2961 - g_loss: 1.3340\n",
            "Epoch 459/500\n",
            "19/19 [==============================] - 13s 700ms/step - d_loss: 0.2955 - g_loss: 1.3797\n",
            "Epoch 460/500\n",
            "19/19 [==============================] - 13s 707ms/step - d_loss: 0.2956 - g_loss: 1.4099\n",
            "Epoch 461/500\n",
            "19/19 [==============================] - 13s 711ms/step - d_loss: 0.2939 - g_loss: 1.4075\n",
            "Epoch 462/500\n",
            "19/19 [==============================] - 13s 711ms/step - d_loss: 0.2929 - g_loss: 1.3951\n",
            "Epoch 463/500\n",
            "19/19 [==============================] - 13s 707ms/step - d_loss: 0.2956 - g_loss: 1.4007\n",
            "Epoch 464/500\n",
            "19/19 [==============================] - 13s 704ms/step - d_loss: 0.2918 - g_loss: 1.4179\n",
            "Epoch 465/500\n",
            "19/19 [==============================] - 13s 701ms/step - d_loss: 0.2918 - g_loss: 1.4005\n",
            "Epoch 466/500\n",
            "19/19 [==============================] - 13s 707ms/step - d_loss: 0.2903 - g_loss: 1.4211\n",
            "Epoch 467/500\n",
            "19/19 [==============================] - 14s 717ms/step - d_loss: 0.2886 - g_loss: 1.3895\n",
            "Epoch 468/500\n",
            "19/19 [==============================] - 13s 706ms/step - d_loss: 0.2882 - g_loss: 1.4108\n",
            "Epoch 469/500\n",
            "19/19 [==============================] - 14s 724ms/step - d_loss: 0.2903 - g_loss: 1.3891\n",
            "Epoch 470/500\n",
            "19/19 [==============================] - 13s 712ms/step - d_loss: 0.2908 - g_loss: 1.3772\n",
            "Epoch 471/500\n",
            "19/19 [==============================] - 13s 709ms/step - d_loss: 0.2877 - g_loss: 1.4154\n",
            "Epoch 472/500\n",
            "19/19 [==============================] - 13s 699ms/step - d_loss: 0.2878 - g_loss: 1.3991\n",
            "Epoch 473/500\n",
            "19/19 [==============================] - 13s 708ms/step - d_loss: 0.2850 - g_loss: 1.4327\n",
            "Epoch 474/500\n",
            "19/19 [==============================] - 13s 706ms/step - d_loss: 0.2849 - g_loss: 1.4085\n",
            "Epoch 475/500\n",
            "19/19 [==============================] - 13s 705ms/step - d_loss: 0.2852 - g_loss: 1.4161\n",
            "Epoch 476/500\n",
            "19/19 [==============================] - 13s 703ms/step - d_loss: 0.2839 - g_loss: 1.4404\n",
            "Epoch 477/500\n",
            "19/19 [==============================] - 13s 709ms/step - d_loss: 0.3081 - g_loss: 1.2734\n",
            "Epoch 478/500\n",
            "19/19 [==============================] - 13s 707ms/step - d_loss: 0.2969 - g_loss: 1.0036\n",
            "Epoch 479/500\n",
            "19/19 [==============================] - 13s 709ms/step - d_loss: 0.2924 - g_loss: 0.9306\n",
            "Epoch 480/500\n",
            "19/19 [==============================] - 13s 701ms/step - d_loss: 0.2917 - g_loss: 0.8920\n",
            "Epoch 481/500\n",
            "19/19 [==============================] - 13s 711ms/step - d_loss: 0.2897 - g_loss: 0.7959\n",
            "Epoch 482/500\n",
            "19/19 [==============================] - 14s 721ms/step - d_loss: 0.2899 - g_loss: 0.7227\n",
            "Epoch 483/500\n",
            "19/19 [==============================] - 13s 707ms/step - d_loss: 0.2871 - g_loss: 0.6643\n",
            "Epoch 484/500\n",
            "19/19 [==============================] - 13s 711ms/step - d_loss: 0.2845 - g_loss: 0.6116\n",
            "Epoch 485/500\n",
            "19/19 [==============================] - 13s 708ms/step - d_loss: 0.2832 - g_loss: 0.5666\n",
            "Epoch 486/500\n",
            "19/19 [==============================] - 13s 707ms/step - d_loss: 0.2842 - g_loss: 0.5385\n",
            "Epoch 487/500\n",
            "19/19 [==============================] - 13s 704ms/step - d_loss: 0.2829 - g_loss: 0.5108\n",
            "Epoch 488/500\n",
            "19/19 [==============================] - 13s 702ms/step - d_loss: 0.2826 - g_loss: 0.5024\n",
            "Epoch 489/500\n",
            "19/19 [==============================] - 14s 714ms/step - d_loss: 0.2819 - g_loss: 0.4949\n",
            "Epoch 490/500\n",
            "19/19 [==============================] - 13s 712ms/step - d_loss: 0.2795 - g_loss: 0.5240\n",
            "Epoch 491/500\n",
            "19/19 [==============================] - 13s 707ms/step - d_loss: 0.2837 - g_loss: 0.4913\n",
            "Epoch 492/500\n",
            "19/19 [==============================] - 14s 715ms/step - d_loss: 0.2805 - g_loss: 0.4910\n",
            "Epoch 493/500\n",
            "19/19 [==============================] - 13s 702ms/step - d_loss: 0.2802 - g_loss: 0.4796\n",
            "Epoch 494/500\n",
            "19/19 [==============================] - 13s 705ms/step - d_loss: 0.2814 - g_loss: 0.4737\n",
            "Epoch 495/500\n",
            "19/19 [==============================] - 13s 708ms/step - d_loss: 0.2794 - g_loss: 0.4894\n",
            "Epoch 496/500\n",
            "19/19 [==============================] - 13s 712ms/step - d_loss: 0.2804 - g_loss: 0.4866\n",
            "Epoch 497/500\n",
            "19/19 [==============================] - 13s 705ms/step - d_loss: 0.2793 - g_loss: 0.4940\n",
            "Epoch 498/500\n",
            "19/19 [==============================] - 14s 714ms/step - d_loss: 0.2780 - g_loss: 0.4991\n",
            "Epoch 499/500\n",
            "19/19 [==============================] - 14s 720ms/step - d_loss: 0.2794 - g_loss: 0.4982\n",
            "Epoch 500/500\n",
            "19/19 [==============================] - 13s 707ms/step - d_loss: 0.2794 - g_loss: 0.5035\n"
          ]
        }
      ],
      "source": [
        "# Recommend 2000 epochs\n",
        "hist = fashgan.fit(stacked_array, epochs=500, callbacks=[ModelMonitor()])"
      ]
    },
    {
      "attachments": {},
      "cell_type": "markdown",
      "id": "39c665a1-a4cc-41ac-a08a-2e14ba64e88d",
      "metadata": {
        "id": "39c665a1-a4cc-41ac-a08a-2e14ba64e88d"
      },
      "source": [
        "### 4.4 Review Performance"
      ]
    },
    {
      "cell_type": "code",
      "execution_count": null,
      "id": "54381e8c-93ee-4022-9df6-24c4356720fe",
      "metadata": {
        "colab": {
          "base_uri": "https://localhost:8080/",
          "height": 478
        },
        "id": "54381e8c-93ee-4022-9df6-24c4356720fe",
        "outputId": "3c58230f-fc51-4137-b853-498f94560dfe"
      },
      "outputs": [
        {
          "data": {
            "image/png": "[encoded data removed]",
            "text/plain": [
              "<Figure size 640x480 with 1 Axes>"
            ]
          },
          "metadata": {},
          "output_type": "display_data"
        }
      ],
      "source": [
        "plt.suptitle('Loss')\n",
        "plt.plot(hist.history['d_loss'], label='d_loss')\n",
        "plt.plot(hist.history['g_loss'], label='g_loss')\n",
        "plt.legend()\n",
        "plt.show()"
      ]
    },
    {
      "attachments": {},
      "cell_type": "markdown",
      "id": "d319a982-7ae5-4754-adcf-b490f17a79d6",
      "metadata": {
        "id": "d319a982-7ae5-4754-adcf-b490f17a79d6"
      },
      "source": [
        "# 5. Test Out the Generator"
      ]
    },
    {
      "attachments": {},
      "cell_type": "markdown",
      "id": "206ba81f-978a-4c31-9c3d-6ebe5a5bfc29",
      "metadata": {
        "id": "206ba81f-978a-4c31-9c3d-6ebe5a5bfc29"
      },
      "source": [
        "### 5.1 Generate Images"
      ]
    },
    {
      "cell_type": "code",
      "execution_count": 11,
      "id": "c46f3d6a-8aa5-40d2-a5ac-67a0606a82f0",
      "metadata": {
        "id": "c46f3d6a-8aa5-40d2-a5ac-67a0606a82f0"
      },
      "outputs": [],
      "source": [
        "generator.load_weights(r'C:\\Users\\Bruno Santos\\Desktop\\Iron Hack - Semanas\\Final Project\\FINAL\\Full Project\\generator2.h5')"
      ]
    },
    {
      "cell_type": "code",
      "execution_count": null,
      "id": "nQCh3k3N_27Q",
      "metadata": {
        "id": "nQCh3k3N_27Q"
      },
      "outputs": [],
      "source": [
        "n = 10"
      ]
    },
    {
      "cell_type": "code",
      "execution_count": null,
      "id": "ex3wK2xBAc8I",
      "metadata": {
        "colab": {
          "base_uri": "https://localhost:8080/"
        },
        "id": "ex3wK2xBAc8I",
        "outputId": "7e823c7b-1fc7-43d8-cdeb-0aada0a41f50"
      },
      "outputs": [
        {
          "data": {
            "text/plain": [
              "10"
            ]
          },
          "execution_count": 78,
          "metadata": {},
          "output_type": "execute_result"
        }
      ],
      "source": [
        "n"
      ]
    },
    {
      "cell_type": "code",
      "execution_count": 23,
      "id": "14cde11f-cb26-4ebf-ad04-2c64a54f871e",
      "metadata": {
        "colab": {
          "base_uri": "https://localhost:8080/"
        },
        "id": "14cde11f-cb26-4ebf-ad04-2c64a54f871e",
        "outputId": "25d70941-a23d-49ad-b014-6060f2433de4"
      },
      "outputs": [
        {
          "name": "stdout",
          "output_type": "stream",
          "text": [
            "1/1 [==============================] - 0s 97ms/step\n"
          ]
        }
      ],
      "source": [
        "imgs = generator.predict(tf.random.normal((20, 600, 1)))"
      ]
    },
    {
      "cell_type": "code",
      "execution_count": 24,
      "id": "097124a3",
      "metadata": {},
      "outputs": [],
      "source": [
        "imgs2 =0.90-imgs"
      ]
    },
    {
      "cell_type": "code",
      "execution_count": 25,
      "id": "f745982f-c4d7-451f-91a7-f7c4341cb7b7",
      "metadata": {
        "colab": {
          "base_uri": "https://localhost:8080/",
          "height": 1000
        },
        "id": "f745982f-c4d7-451f-91a7-f7c4341cb7b7",
        "outputId": "7ddd2187-c024-48b1-a06c-0b33ffb649f8"
      },
      "outputs": [
        {
          "name": "stderr",
          "output_type": "stream",
          "text": [
            "Clipping input data to the valid range for imshow with RGB data ([0..1] for floats or [0..255] for integers).\n",
            "Clipping input data to the valid range for imshow with RGB data ([0..1] for floats or [0..255] for integers).\n",
            "Clipping input data to the valid range for imshow with RGB data ([0..1] for floats or [0..255] for integers).\n",
            "Clipping input data to the valid range for imshow with RGB data ([0..1] for floats or [0..255] for integers).\n",
            "Clipping input data to the valid range for imshow with RGB data ([0..1] for floats or [0..255] for integers).\n",
            "Clipping input data to the valid range for imshow with RGB data ([0..1] for floats or [0..255] for integers).\n",
            "Clipping input data to the valid range for imshow with RGB data ([0..1] for floats or [0..255] for integers).\n",
            "Clipping input data to the valid range for imshow with RGB data ([0..1] for floats or [0..255] for integers).\n",
            "Clipping input data to the valid range for imshow with RGB data ([0..1] for floats or [0..255] for integers).\n",
            "Clipping input data to the valid range for imshow with RGB data ([0..1] for floats or [0..255] for integers).\n",
            "Clipping input data to the valid range for imshow with RGB data ([0..1] for floats or [0..255] for integers).\n",
            "Clipping input data to the valid range for imshow with RGB data ([0..1] for floats or [0..255] for integers).\n",
            "Clipping input data to the valid range for imshow with RGB data ([0..1] for floats or [0..255] for integers).\n",
            "Clipping input data to the valid range for imshow with RGB data ([0..1] for floats or [0..255] for integers).\n",
            "Clipping input data to the valid range for imshow with RGB data ([0..1] for floats or [0..255] for integers).\n",
            "Clipping input data to the valid range for imshow with RGB data ([0..1] for floats or [0..255] for integers).\n"
          ]
        },
        {
          "data": {
            "image/png": "[encoded data removed]",
            "text/plain": [
              "<Figure size 2000x2000 with 16 Axes>"
            ]
          },
          "metadata": {},
          "output_type": "display_data"
        }
      ],
      "source": [
        "fig, ax = plt.subplots(ncols=4, nrows=4, figsize=(20,20))\n",
        "for r in range(4): \n",
        "    for c in range(4): \n",
        "        ax[r][c].imshow(imgs2[(r+1)*(c+1)-1])"
      ]
    },
    {
      "attachments": {},
      "cell_type": "markdown",
      "id": "5137cffa-784d-4076-beef-0a067b86d3aa",
      "metadata": {
        "id": "5137cffa-784d-4076-beef-0a067b86d3aa"
      },
      "source": [
        "### 5.2 Save the Model"
      ]
    },
    {
      "cell_type": "code",
      "execution_count": 48,
      "id": "a7011d68-ef71-4377-91e2-e26a02fab382",
      "metadata": {
        "colab": {
          "base_uri": "https://localhost:8080/",
          "height": 183
        },
        "id": "a7011d68-ef71-4377-91e2-e26a02fab382",
        "outputId": "3d5f5c1f-6dd3-42b2-ff23-f3a71e98eed9"
      },
      "outputs": [
        {
          "name": "stdout",
          "output_type": "stream",
          "text": [
            "WARNING:tensorflow:Compiled the loaded model, but the compiled metrics have yet to be built. `model.compile_metrics` will be empty until you train or evaluate the model.\n"
          ]
        },
        {
          "name": "stderr",
          "output_type": "stream",
          "text": [
            "WARNING:tensorflow:Compiled the loaded model, but the compiled metrics have yet to be built. `model.compile_metrics` will be empty until you train or evaluate the model.\n"
          ]
        },
        {
          "name": "stdout",
          "output_type": "stream",
          "text": [
            "WARNING:tensorflow:Compiled the loaded model, but the compiled metrics have yet to be built. `model.compile_metrics` will be empty until you train or evaluate the model.\n"
          ]
        },
        {
          "name": "stderr",
          "output_type": "stream",
          "text": [
            "WARNING:tensorflow:Compiled the loaded model, but the compiled metrics have yet to be built. `model.compile_metrics` will be empty until you train or evaluate the model.\n"
          ]
        }
      ],
      "source": [
        "generator.save('generator.h5')\n",
        "discriminator.save('discriminator.h5')"
      ]
    },
    {
      "cell_type": "code",
      "execution_count": 47,
      "id": "d14c2bd3-a344-4ac1-b2ee-6c90420368e6",
      "metadata": {
        "id": "d14c2bd3-a344-4ac1-b2ee-6c90420368e6"
      },
      "outputs": [
        {
          "ename": "ValueError",
          "evalue": "Layer 'dense' expected 2 variables, but received 0 variables during loading. Expected: ['dense/kernel:0', 'dense/bias:0']",
          "output_type": "error",
          "traceback": [
            "\u001b[1;31m---------------------------------------------------------------------------\u001b[0m",
            "\u001b[1;31mValueError\u001b[0m                                Traceback (most recent call last)",
            "Cell \u001b[1;32mIn[47], line 3\u001b[0m\n\u001b[0;32m      1\u001b[0m \u001b[39mimport\u001b[39;00m \u001b[39mpickle\u001b[39;00m\n\u001b[0;32m      2\u001b[0m \u001b[39mwith\u001b[39;00m \u001b[39mopen\u001b[39m(\u001b[39mr\u001b[39m\u001b[39m'\u001b[39m\u001b[39mC:\u001b[39m\u001b[39m\\\u001b[39m\u001b[39mUsers\u001b[39m\u001b[39m\\\u001b[39m\u001b[39mBruno Santos\u001b[39m\u001b[39m\\\u001b[39m\u001b[39mDesktop\u001b[39m\u001b[39m\\\u001b[39m\u001b[39mIron Hack - Semanas\u001b[39m\u001b[39m\\\u001b[39m\u001b[39mFinal Project\u001b[39m\u001b[39m\\\u001b[39m\u001b[39mFINAL\u001b[39m\u001b[39m\\\u001b[39m\u001b[39mFull Project\u001b[39m\u001b[39m\\\u001b[39m\u001b[39mgenerator.pkl\u001b[39m\u001b[39m'\u001b[39m, \u001b[39m'\u001b[39m\u001b[39mrb\u001b[39m\u001b[39m'\u001b[39m) \u001b[39mas\u001b[39;00m file:\n\u001b[1;32m----> 3\u001b[0m     data \u001b[39m=\u001b[39m pickle\u001b[39m.\u001b[39;49mload(file)\n",
            "File \u001b[1;32mc:\\Users\\Bruno Santos\\AppData\\Local\\Programs\\Python\\Python311\\Lib\\site-packages\\keras\\saving\\pickle_utils.py:48\u001b[0m, in \u001b[0;36mdeserialize_model_from_bytecode\u001b[1;34m(serialized_model)\u001b[0m\n\u001b[0;32m     46\u001b[0m     model \u001b[39m=\u001b[39m saving_lib\u001b[39m.\u001b[39mload_model(filepath, safe_mode\u001b[39m=\u001b[39m\u001b[39mFalse\u001b[39;00m)\n\u001b[0;32m     47\u001b[0m \u001b[39mexcept\u001b[39;00m \u001b[39mException\u001b[39;00m \u001b[39mas\u001b[39;00m e:\n\u001b[1;32m---> 48\u001b[0m     \u001b[39mraise\u001b[39;00m e\n\u001b[0;32m     49\u001b[0m \u001b[39melse\u001b[39;00m:\n\u001b[0;32m     50\u001b[0m     \u001b[39mreturn\u001b[39;00m model\n",
            "File \u001b[1;32mc:\\Users\\Bruno Santos\\AppData\\Local\\Programs\\Python\\Python311\\Lib\\site-packages\\keras\\saving\\pickle_utils.py:46\u001b[0m, in \u001b[0;36mdeserialize_model_from_bytecode\u001b[1;34m(serialized_model)\u001b[0m\n\u001b[0;32m     40\u001b[0m         f\u001b[39m.\u001b[39mwrite(serialized_model)\n\u001b[0;32m     41\u001b[0m     \u001b[39m# When loading, direct import will work for most custom objects\u001b[39;00m\n\u001b[0;32m     42\u001b[0m     \u001b[39m# though it will require get_config() to be implemented.\u001b[39;00m\n\u001b[0;32m     43\u001b[0m     \u001b[39m# Some custom objects (e.g. an activation in a Dense layer,\u001b[39;00m\n\u001b[0;32m     44\u001b[0m     \u001b[39m# serialized as a string by Dense.get_config()) will require\u001b[39;00m\n\u001b[0;32m     45\u001b[0m     \u001b[39m# a custom_object_scope.\u001b[39;00m\n\u001b[1;32m---> 46\u001b[0m     model \u001b[39m=\u001b[39m saving_lib\u001b[39m.\u001b[39;49mload_model(filepath, safe_mode\u001b[39m=\u001b[39;49m\u001b[39mFalse\u001b[39;49;00m)\n\u001b[0;32m     47\u001b[0m \u001b[39mexcept\u001b[39;00m \u001b[39mException\u001b[39;00m \u001b[39mas\u001b[39;00m e:\n\u001b[0;32m     48\u001b[0m     \u001b[39mraise\u001b[39;00m e\n",
            "File \u001b[1;32mc:\\Users\\Bruno Santos\\AppData\\Local\\Programs\\Python\\Python311\\Lib\\site-packages\\keras\\saving\\saving_lib.py:277\u001b[0m, in \u001b[0;36mload_model\u001b[1;34m(filepath, custom_objects, compile, safe_mode)\u001b[0m\n\u001b[0;32m    274\u001b[0m             asset_store\u001b[39m.\u001b[39mclose()\n\u001b[0;32m    276\u001b[0m \u001b[39mexcept\u001b[39;00m \u001b[39mException\u001b[39;00m \u001b[39mas\u001b[39;00m e:\n\u001b[1;32m--> 277\u001b[0m     \u001b[39mraise\u001b[39;00m e\n\u001b[0;32m    278\u001b[0m \u001b[39melse\u001b[39;00m:\n\u001b[0;32m    279\u001b[0m     \u001b[39mreturn\u001b[39;00m model\n",
            "File \u001b[1;32mc:\\Users\\Bruno Santos\\AppData\\Local\\Programs\\Python\\Python311\\Lib\\site-packages\\keras\\saving\\saving_lib.py:265\u001b[0m, in \u001b[0;36mload_model\u001b[1;34m(filepath, custom_objects, compile, safe_mode)\u001b[0m\n\u001b[0;32m    262\u001b[0m \u001b[39melse\u001b[39;00m:\n\u001b[0;32m    263\u001b[0m     asset_store \u001b[39m=\u001b[39m \u001b[39mNone\u001b[39;00m\n\u001b[1;32m--> 265\u001b[0m _load_state(\n\u001b[0;32m    266\u001b[0m     model,\n\u001b[0;32m    267\u001b[0m     weights_store\u001b[39m=\u001b[39;49mweights_store,\n\u001b[0;32m    268\u001b[0m     assets_store\u001b[39m=\u001b[39;49masset_store,\n\u001b[0;32m    269\u001b[0m     inner_path\u001b[39m=\u001b[39;49m\u001b[39m\"\u001b[39;49m\u001b[39m\"\u001b[39;49m,\n\u001b[0;32m    270\u001b[0m     visited_trackables\u001b[39m=\u001b[39;49m\u001b[39mset\u001b[39;49m(),\n\u001b[0;32m    271\u001b[0m )\n\u001b[0;32m    272\u001b[0m weights_store\u001b[39m.\u001b[39mclose()\n\u001b[0;32m    273\u001b[0m \u001b[39mif\u001b[39;00m asset_store:\n",
            "File \u001b[1;32mc:\\Users\\Bruno Santos\\AppData\\Local\\Programs\\Python\\Python311\\Lib\\site-packages\\keras\\saving\\saving_lib.py:453\u001b[0m, in \u001b[0;36m_load_state\u001b[1;34m(trackable, weights_store, assets_store, inner_path, skip_mismatch, visited_trackables)\u001b[0m\n\u001b[0;32m    444\u001b[0m     _load_state(\n\u001b[0;32m    445\u001b[0m         child_obj,\n\u001b[0;32m    446\u001b[0m         weights_store,\n\u001b[1;32m   (...)\u001b[0m\n\u001b[0;32m    450\u001b[0m         visited_trackables\u001b[39m=\u001b[39mvisited_trackables,\n\u001b[0;32m    451\u001b[0m     )\n\u001b[0;32m    452\u001b[0m \u001b[39melif\u001b[39;00m \u001b[39misinstance\u001b[39m(child_obj, (\u001b[39mlist\u001b[39m, \u001b[39mdict\u001b[39m, \u001b[39mtuple\u001b[39m, \u001b[39mset\u001b[39m)):\n\u001b[1;32m--> 453\u001b[0m     _load_container_state(\n\u001b[0;32m    454\u001b[0m         child_obj,\n\u001b[0;32m    455\u001b[0m         weights_store,\n\u001b[0;32m    456\u001b[0m         assets_store,\n\u001b[0;32m    457\u001b[0m         inner_path\u001b[39m=\u001b[39;49mtf\u001b[39m.\u001b[39;49mio\u001b[39m.\u001b[39;49mgfile\u001b[39m.\u001b[39;49mjoin(inner_path, child_attr),\n\u001b[0;32m    458\u001b[0m         skip_mismatch\u001b[39m=\u001b[39;49mskip_mismatch,\n\u001b[0;32m    459\u001b[0m         visited_trackables\u001b[39m=\u001b[39;49mvisited_trackables,\n\u001b[0;32m    460\u001b[0m     )\n",
            "File \u001b[1;32mc:\\Users\\Bruno Santos\\AppData\\Local\\Programs\\Python\\Python311\\Lib\\site-packages\\keras\\saving\\saving_lib.py:510\u001b[0m, in \u001b[0;36m_load_container_state\u001b[1;34m(container, weights_store, assets_store, inner_path, skip_mismatch, visited_trackables)\u001b[0m\n\u001b[0;32m    508\u001b[0m \u001b[39melse\u001b[39;00m:\n\u001b[0;32m    509\u001b[0m     used_names[name] \u001b[39m=\u001b[39m \u001b[39m0\u001b[39m\n\u001b[1;32m--> 510\u001b[0m _load_state(\n\u001b[0;32m    511\u001b[0m     trackable,\n\u001b[0;32m    512\u001b[0m     weights_store,\n\u001b[0;32m    513\u001b[0m     assets_store,\n\u001b[0;32m    514\u001b[0m     inner_path\u001b[39m=\u001b[39;49mtf\u001b[39m.\u001b[39;49mio\u001b[39m.\u001b[39;49mgfile\u001b[39m.\u001b[39;49mjoin(inner_path, name),\n\u001b[0;32m    515\u001b[0m     skip_mismatch\u001b[39m=\u001b[39;49mskip_mismatch,\n\u001b[0;32m    516\u001b[0m     visited_trackables\u001b[39m=\u001b[39;49mvisited_trackables,\n\u001b[0;32m    517\u001b[0m )\n",
            "File \u001b[1;32mc:\\Users\\Bruno Santos\\AppData\\Local\\Programs\\Python\\Python311\\Lib\\site-packages\\keras\\saving\\saving_lib.py:422\u001b[0m, in \u001b[0;36m_load_state\u001b[1;34m(trackable, weights_store, assets_store, inner_path, skip_mismatch, visited_trackables)\u001b[0m\n\u001b[0;32m    415\u001b[0m             warnings\u001b[39m.\u001b[39mwarn(\n\u001b[0;32m    416\u001b[0m                 \u001b[39mf\u001b[39m\u001b[39m\"\u001b[39m\u001b[39mCould not load weights in object \u001b[39m\u001b[39m{\u001b[39;00mtrackable\u001b[39m}\u001b[39;00m\u001b[39m. \u001b[39m\u001b[39m\"\u001b[39m\n\u001b[0;32m    417\u001b[0m                 \u001b[39m\"\u001b[39m\u001b[39mSkipping object. \u001b[39m\u001b[39m\"\u001b[39m\n\u001b[0;32m    418\u001b[0m                 \u001b[39mf\u001b[39m\u001b[39m\"\u001b[39m\u001b[39mException encountered: \u001b[39m\u001b[39m{\u001b[39;00me\u001b[39m}\u001b[39;00m\u001b[39m\"\u001b[39m,\n\u001b[0;32m    419\u001b[0m                 stacklevel\u001b[39m=\u001b[39m\u001b[39m2\u001b[39m,\n\u001b[0;32m    420\u001b[0m             )\n\u001b[0;32m    421\u001b[0m     \u001b[39melse\u001b[39;00m:\n\u001b[1;32m--> 422\u001b[0m         trackable\u001b[39m.\u001b[39;49m_load_own_variables(weights_store\u001b[39m.\u001b[39;49mget(inner_path))\n\u001b[0;32m    424\u001b[0m \u001b[39mif\u001b[39;00m \u001b[39mhasattr\u001b[39m(trackable, \u001b[39m\"\u001b[39m\u001b[39m_load_assets\u001b[39m\u001b[39m\"\u001b[39m) \u001b[39mand\u001b[39;00m assets_store:\n\u001b[0;32m    425\u001b[0m     \u001b[39mif\u001b[39;00m skip_mismatch:\n",
            "File \u001b[1;32mc:\\Users\\Bruno Santos\\AppData\\Local\\Programs\\Python\\Python311\\Lib\\site-packages\\keras\\engine\\base_layer.py:3513\u001b[0m, in \u001b[0;36mLayer._load_own_variables\u001b[1;34m(self, store)\u001b[0m\n\u001b[0;32m   3511\u001b[0m all_vars \u001b[39m=\u001b[39m \u001b[39mself\u001b[39m\u001b[39m.\u001b[39m_trainable_weights \u001b[39m+\u001b[39m \u001b[39mself\u001b[39m\u001b[39m.\u001b[39m_non_trainable_weights\n\u001b[0;32m   3512\u001b[0m \u001b[39mif\u001b[39;00m \u001b[39mlen\u001b[39m(store\u001b[39m.\u001b[39mkeys()) \u001b[39m!=\u001b[39m \u001b[39mlen\u001b[39m(all_vars):\n\u001b[1;32m-> 3513\u001b[0m     \u001b[39mraise\u001b[39;00m \u001b[39mValueError\u001b[39;00m(\n\u001b[0;32m   3514\u001b[0m         \u001b[39mf\u001b[39m\u001b[39m\"\u001b[39m\u001b[39mLayer \u001b[39m\u001b[39m'\u001b[39m\u001b[39m{\u001b[39;00m\u001b[39mself\u001b[39m\u001b[39m.\u001b[39mname\u001b[39m}\u001b[39;00m\u001b[39m'\u001b[39m\u001b[39m expected \u001b[39m\u001b[39m{\u001b[39;00m\u001b[39mlen\u001b[39m(all_vars)\u001b[39m}\u001b[39;00m\u001b[39m variables, \u001b[39m\u001b[39m\"\u001b[39m\n\u001b[0;32m   3515\u001b[0m         \u001b[39m\"\u001b[39m\u001b[39mbut received \u001b[39m\u001b[39m\"\u001b[39m\n\u001b[0;32m   3516\u001b[0m         \u001b[39mf\u001b[39m\u001b[39m\"\u001b[39m\u001b[39m{\u001b[39;00m\u001b[39mlen\u001b[39m(store\u001b[39m.\u001b[39mkeys())\u001b[39m}\u001b[39;00m\u001b[39m variables during loading. \u001b[39m\u001b[39m\"\u001b[39m\n\u001b[0;32m   3517\u001b[0m         \u001b[39mf\u001b[39m\u001b[39m\"\u001b[39m\u001b[39mExpected: \u001b[39m\u001b[39m{\u001b[39;00m[v\u001b[39m.\u001b[39mname\u001b[39m \u001b[39m\u001b[39mfor\u001b[39;00m\u001b[39m \u001b[39mv\u001b[39m \u001b[39m\u001b[39min\u001b[39;00m\u001b[39m \u001b[39mall_vars]\u001b[39m}\u001b[39;00m\u001b[39m\"\u001b[39m\n\u001b[0;32m   3518\u001b[0m     )\n\u001b[0;32m   3519\u001b[0m \u001b[39mfor\u001b[39;00m i, v \u001b[39min\u001b[39;00m \u001b[39menumerate\u001b[39m(all_vars):\n\u001b[0;32m   3520\u001b[0m     \u001b[39m# TODO(rchao): check shapes and raise errors.\u001b[39;00m\n\u001b[0;32m   3521\u001b[0m     v\u001b[39m.\u001b[39massign(store[\u001b[39mf\u001b[39m\u001b[39m\"\u001b[39m\u001b[39m{\u001b[39;00mi\u001b[39m}\u001b[39;00m\u001b[39m\"\u001b[39m])\n",
            "\u001b[1;31mValueError\u001b[0m: Layer 'dense' expected 2 variables, but received 0 variables during loading. Expected: ['dense/kernel:0', 'dense/bias:0']"
          ]
        }
      ],
      "source": [
        "import pickle\n",
        "with open(r'C:\\Users\\Bruno Santos\\Desktop\\Iron Hack - Semanas\\Final Project\\FINAL\\Full Project\\generator.pkl', 'rb') as file:\n",
        "    data = pickle.load(file)"
      ]
    }
  ],
  "metadata": {
    "accelerator": "GPU",
    "colab": {
      "gpuType": "T4",
      "provenance": []
    },
    "kernelspec": {
      "display_name": "Python 3",
      "name": "python3"
    },
    "language_info": {
      "codemirror_mode": {
        "name": "ipython",
        "version": 3
      },
      "file_extension": ".py",
      "mimetype": "text/x-python",
      "name": "python",
      "nbconvert_exporter": "python",
      "pygments_lexer": "ipython3",
      "version": "3.11.2"
    }
  },
  "nbformat": 4,
  "nbformat_minor": 5
}
