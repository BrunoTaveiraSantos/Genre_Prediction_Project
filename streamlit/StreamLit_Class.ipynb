{
 "cells": [
  {
   "attachments": {},
   "cell_type": "markdown",
   "id": "b4a681bc",
   "metadata": {},
   "source": [
    "# Let's explore StreamLit !"
   ]
  },
  {
   "attachments": {},
   "cell_type": "markdown",
   "id": "7046d0f8",
   "metadata": {},
   "source": [
    "Streamlit is a powerful tool for creating interactive web applications with Python"
   ]
  },
  {
   "attachments": {},
   "cell_type": "markdown",
   "id": "b12e8734",
   "metadata": {},
   "source": [
    "## Installation\n"
   ]
  },
  {
   "attachments": {},
   "cell_type": "markdown",
   "id": "dab04fbc",
   "metadata": {},
   "source": [
    "In order to use the streamlit library, we first need to install it "
   ]
  },
  {
   "cell_type": "code",
   "execution_count": null,
   "id": "9f673ed6",
   "metadata": {},
   "outputs": [],
   "source": [
    "!pip install streamlit"
   ]
  },
  {
   "attachments": {},
   "cell_type": "markdown",
   "id": "8b5236d5",
   "metadata": {},
   "source": [
    "## Importing Streamlit's library"
   ]
  },
  {
   "attachments": {},
   "cell_type": "markdown",
   "id": "1bee2d45",
   "metadata": {},
   "source": [
    "Great! After installing streamlit, we need to import the library itself. Let's also give it an alias to be easier to access\n"
   ]
  },
  {
   "cell_type": "code",
   "execution_count": 4,
   "id": "a22b44ee",
   "metadata": {},
   "outputs": [],
   "source": [
    "import streamlit as st"
   ]
  },
  {
   "attachments": {},
   "cell_type": "markdown",
   "id": "0fe0149b",
   "metadata": {},
   "source": [
    "## Creating our Web Application"
   ]
  },
  {
   "attachments": {},
   "cell_type": "markdown",
   "id": "6436f420",
   "metadata": {},
   "source": [
    "Our Web Application has to be coded inside a Python file (.py), not on a notebook file. However, we will still need Jupyter Notebook to run the app. So, it's Python time!"
   ]
  },
  {
   "attachments": {},
   "cell_type": "markdown",
   "id": "a657bc4c",
   "metadata": {},
   "source": [
    "## Running our Web Application"
   ]
  },
  {
   "attachments": {},
   "cell_type": "markdown",
   "id": "fab0fc11",
   "metadata": {},
   "source": [
    "In our Jupyter Notebook, we need to import the subprocess module to execute shell commands and create a function that launches our Web App. Please note that both the Python and Notebook file have to be in the same folder\n"
   ]
  },
  {
   "cell_type": "code",
   "execution_count": 3,
   "id": "c1d27ba9",
   "metadata": {},
   "outputs": [],
   "source": [
    "import subprocess\n",
    "\n",
    "def run_streamlit_app():\n",
    "    subprocess.Popen([\"streamlit\", \"run\", \"app.py\"])"
   ]
  },
  {
   "attachments": {},
   "cell_type": "markdown",
   "id": "124eb82e",
   "metadata": {},
   "source": [
    "Replace \"test.py\" with the name of your Streamlit app file and Voilá!\n"
   ]
  },
  {
   "attachments": {},
   "cell_type": "markdown",
   "id": "b6a317be",
   "metadata": {},
   "source": [
    "To launch our app, just run the function:"
   ]
  },
  {
   "cell_type": "code",
   "execution_count": 4,
   "id": "a046563f",
   "metadata": {},
   "outputs": [],
   "source": [
    "run_streamlit_app()"
   ]
  },
  {
   "attachments": {},
   "cell_type": "markdown",
   "id": "ab882379",
   "metadata": {},
   "source": [
    "Happy coding :)"
   ]
  }
 ],
 "metadata": {
  "kernelspec": {
   "display_name": "Python 3 (ipykernel)",
   "language": "python",
   "name": "python3"
  },
  "language_info": {
   "codemirror_mode": {
    "name": "ipython",
    "version": 3
   },
   "file_extension": ".py",
   "mimetype": "text/x-python",
   "name": "python",
   "nbconvert_exporter": "python",
   "pygments_lexer": "ipython3",
   "version": "3.11.2"
  }
 },
 "nbformat": 4,
 "nbformat_minor": 5
}
