{
 "cells": [
  {
   "cell_type": "code",
   "execution_count": 1,
   "metadata": {},
   "outputs": [],
   "source": [
    "from selenium import webdriver\n",
    "from selenium.webdriver.common.by import By\n",
    "import time\n",
    "import os\n",
    "import urllib.request\n",
    "import pandas as pd"
   ]
  },
  {
   "attachments": {},
   "cell_type": "markdown",
   "metadata": {},
   "source": [
    "webdriver_path = 'C:\\Program Files (x86)\\chromedriver.exe'  # Path to the WebDriver executable\n",
    "driver = webdriver.Chrome(webdriver_path)\n"
   ]
  },
  {
   "cell_type": "code",
   "execution_count": 26,
   "metadata": {},
   "outputs": [],
   "source": [
    "def get_album_cover(genre, page):\n",
    "    webdriver_path = 'C:\\Program Files (x86)\\chromedriver.exe'  \n",
    "    driver = webdriver.Chrome(webdriver_path)\n",
    "    cover_urls = []\n",
    "    for i in range(page):\n",
    "        album_url = f'https://www.discogs.com/search/?genre_exact={genre}&sort=have%2Cdesc&ev=gs_mc&page={i+1}'\n",
    "        #album_url = f'https://www.discogs.com/search/?style_exact={genre}&page={i+1}'\n",
    "        driver.get(album_url)\n",
    "        album_covers = driver.find_elements(By.CSS_SELECTOR, '.thumbnail_center img')\n",
    "        for cover in album_covers:\n",
    "            cover_urls.append(cover.get_attribute('src'))\n",
    "        time.sleep(10)\n",
    "    return cover_urls"
   ]
  },
  {
   "cell_type": "code",
   "execution_count": 3,
   "metadata": {},
   "outputs": [],
   "source": [
    "def clean_data(covers):\n",
    "    covers_df = pd.DataFrame(covers)\n",
    "    cleand_df = covers_df[covers_df[0]!='data:image/gif;base64,R0lGODlhAQABAIAAAAAAAP///yH5BAEAAAAALAAAAAABAAEAAAIBRAA7']\n",
    "    cover_list = list(cleand_df[0])\n",
    "    return cover_list"
   ]
  },
  {
   "cell_type": "code",
   "execution_count": 5,
   "metadata": {},
   "outputs": [],
   "source": [
    "def save_files(cover_list,genre):\n",
    "    directory = 'album_covers'\n",
    "    if not os.path.exists(directory):\n",
    "        os.makedirs(directory)\n",
    "\n",
    "# Download and save the album covers\n",
    "    i = 0\n",
    "    for covers in cover_list:\n",
    "        filename = f'album_cover_{i}_{genre}.jpg'\n",
    "        filepath = os.path.join(directory, filename)\n",
    "        urllib.request.urlretrieve(covers, filepath)\n",
    "        i += 1\n",
    "    return print(\"Done\")"
   ]
  },
  {
   "cell_type": "code",
   "execution_count": 27,
   "metadata": {},
   "outputs": [
    {
     "name": "stderr",
     "output_type": "stream",
     "text": [
      "C:\\Users\\Bruno Santos\\AppData\\Local\\Temp\\ipykernel_3140\\589101298.py:3: DeprecationWarning: executable_path has been deprecated, please pass in a Service object\n",
      "  driver = webdriver.Chrome(webdriver_path)\n"
     ]
    }
   ],
   "source": [
    "covers = get_album_cover(\"Reggae\", 40)"
   ]
  },
  {
   "cell_type": "code",
   "execution_count": 28,
   "metadata": {},
   "outputs": [],
   "source": [
    "cover_list = clean_data(covers)"
   ]
  },
  {
   "cell_type": "code",
   "execution_count": 29,
   "metadata": {},
   "outputs": [
    {
     "name": "stdout",
     "output_type": "stream",
     "text": [
      "Done\n"
     ]
    }
   ],
   "source": [
    "save_files(cover_list,\"Reggae\")"
   ]
  }
 ],
 "metadata": {
  "kernelspec": {
   "display_name": "Python 3",
   "language": "python",
   "name": "python3"
  },
  "language_info": {
   "codemirror_mode": {
    "name": "ipython",
    "version": 3
   },
   "file_extension": ".py",
   "mimetype": "text/x-python",
   "name": "python",
   "nbconvert_exporter": "python",
   "pygments_lexer": "ipython3",
   "version": "3.11.2"
  },
  "orig_nbformat": 4
 },
 "nbformat": 4,
 "nbformat_minor": 2
}
